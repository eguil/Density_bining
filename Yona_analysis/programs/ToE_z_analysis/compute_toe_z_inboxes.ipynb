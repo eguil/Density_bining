{
 "cells": [
  {
   "cell_type": "markdown",
   "metadata": {},
   "source": [
    "# Compute ToE in boxes for signal and noise analyzed on pressure surfaces and mapped to gamma, for IPSL r2i1p1"
   ]
  },
  {
   "cell_type": "code",
   "execution_count": 1,
   "metadata": {},
   "outputs": [],
   "source": [
    "import sys\n",
    "sys.path.append(\"/home/ysilvy/Density_bining/Yona_analysis/programs/\")\n",
    "import numpy as np\n",
    "from netCDF4 import Dataset as open_ncfile\n",
    "from maps_matplot_lib import defVarmme, averageDom\n",
    "from libToE import findToE, ToEdomainrcp85vshistNat\n",
    "from functions_z_analysis import maptogamma\n",
    "import glob\n",
    "sys.path.append(\"/home/ysilvy/Density_bining/\")\n",
    "from binDensity import rhonGrid\n",
    "import matplotlib.pyplot as plt\n",
    "from matplotlib.ticker import MultipleLocator, AutoMinorLocator\n",
    "import datetime"
   ]
  },
  {
   "cell_type": "code",
   "execution_count": 9,
   "metadata": {},
   "outputs": [],
   "source": [
    "# varname = defVarmme('salinity'); v = 'S'\n",
    "varname = defVarmme('temp'); v = 'T'\n",
    "var = varname['var_zonal_w/bowl']\n",
    "if v=='S':\n",
    "    varName = 'salinity'\n",
    "elif v=='T':\n",
    "    varName = 'temperature'"
   ]
  },
  {
   "cell_type": "code",
   "execution_count": 10,
   "metadata": {},
   "outputs": [],
   "source": [
    "indir = '/data/ysilvy/CMIP5_annual/'\n",
    "domains = ['Southern ST', 'SO', 'Northern ST', 'North Atlantic', 'North Pacific']\n",
    "\n",
    "iniyear = 1860\n",
    "finalyear = 2100\n",
    "deltay = 10.\n",
    "\n",
    "legVar = varname['legVar']\n",
    "\n",
    "model = {'name':'IPSL-CM5A-LR'  ,'props':[6,3,11,156], 'picontrol':[1000],'correctFile':[0,0,0],\n",
    "          'file_end_hist':'v20111119', 'file_end_histNat':'v20120430',\n",
    "          'hist-rcp85':['r2i1p1','r3i1p1','r4i1p1']}\n",
    "tstart = model['props'][2]\n",
    "tend = model['props'][3]"
   ]
  },
  {
   "cell_type": "code",
   "execution_count": 5,
   "metadata": {},
   "outputs": [
    {
     "name": "stdout",
     "output_type": "stream",
     "text": [
      "('Computing ToE for ', 'IPSL-CM5A-LR')\n"
     ]
    }
   ],
   "source": [
    "# ----- Map to gamma, average signal and noise and compute ToE ------\n",
    "print('Computing ToE for ',model['name'])\n",
    "\n",
    "# Read hist+rcp85 file\n",
    "filehrcp = indir + 'so_thetao_gamma_Oan_IPSL-CM5A-LR_historical-rcp85_r2i1p1_185001-210012.nc'\n",
    "fhrcp = open_ncfile(filehrcp,'r')\n",
    "varhrcp = fhrcp.variables[varName][tstart-1:tend+95,:,:,:]\n",
    "varhrcp.shape\n",
    "# Read histNat file\n",
    "filehn = indir + 'so_thetao_gamma_Oan_IPSL-CM5A-LR_historicalNat_r2i1p1_185001-201012.nc'\n",
    "fhn = open_ncfile(filehn,'r')\n",
    "# Read var histNat\n",
    "varhn = fhn.variables[varName][tstart:tend,:,:,:]\n",
    "# varhn.shape"
   ]
  },
  {
   "cell_type": "code",
   "execution_count": 7,
   "metadata": {},
   "outputs": [
    {
     "data": {
      "text/plain": [
       "('temperature', 'isonthetao')"
      ]
     },
     "execution_count": 7,
     "metadata": {},
     "output_type": "execute_result"
    }
   ],
   "source": [
    "varName, var"
   ]
  },
  {
   "cell_type": "code",
   "execution_count": 8,
   "metadata": {},
   "outputs": [],
   "source": [
    "# -- Map hist+rcp and histNat to gamma at each time step\n",
    "# Density grid\n",
    "targetrho, s_sax, del_s, N_s = rhonGrid(19, 26, 28.501, 0.2, 0.1)\n",
    "\n",
    "# Define Gamma/depth relationship for mapping\n",
    "gammaz = np.ma.average(fhrcp.variables['density'][tstart-1:tend+95,:,:,:],axis=0)\n",
    "\n",
    "# Map to gamma\n",
    "varhrcp_gamma = np.ma.masked_all((varhrcp.shape[0],varhrcp.shape[1],len(targetrho),varhrcp.shape[3]))\n",
    "varhn_gamma = np.ma.masked_all((varhn.shape[0],varhn.shape[1],len(targetrho),varhn.shape[3]))\n",
    "for t in range(varhrcp.shape[0]):\n",
    "    varhrcp_gamma[t,:,:,:] = maptogamma(varhrcp[t,:,:,:],gammaz,targetrho)\n",
    "    if t<varhn.shape[0]:\n",
    "        varhn_gamma[t,:,:,:] = maptogamma(varhn[t,:,:,:],gammaz,targetrho)\n"
   ]
  },
  {
   "cell_type": "code",
   "execution_count": 9,
   "metadata": {},
   "outputs": [],
   "source": [
    "timN = 240\n",
    "basinN = 4\n",
    "lat = fhrcp.variables['latitude'][:]\n",
    "density = targetrho"
   ]
  },
  {
   "cell_type": "code",
   "execution_count": 10,
   "metadata": {},
   "outputs": [
    {
     "data": {
      "text/plain": [
       "(145, 4, 61, 180)"
      ]
     },
     "execution_count": 10,
     "metadata": {},
     "output_type": "execute_result"
    }
   ],
   "source": [
    "varhn_gamma.shape"
   ]
  },
  {
   "cell_type": "code",
   "execution_count": 11,
   "metadata": {},
   "outputs": [
    {
     "name": "stdout",
     "output_type": "stream",
     "text": [
      "('- ', 0, 'Southern ST')\n",
      "('- ', 1, 'SO')\n",
      "('- ', 2, 'Northern ST')\n",
      "('- ', 3, 'North Atlantic')\n",
      "('- ', 4, 'North Pacific')\n"
     ]
    }
   ],
   "source": [
    "# -- Now work in gamma space\n",
    "# Compute mean histNat\n",
    "varmeanhn = np.ma.average(varhn_gamma,axis=0)\n",
    "\n",
    "# Initialize varnoise for each basin, containing averaged noise for each domain\n",
    "varnoise_a = np.ma.masked_all(len(domains))\n",
    "varnoise_p = np.ma.masked_all(len(domains))\n",
    "varnoise_i = np.ma.masked_all(len(domains))\n",
    "# Initialize varsignal for each basin, containing averaged signal for each domain\n",
    "varsignal_a = np.ma.masked_all((timN,len(domains)))\n",
    "varsignal_p = np.ma.masked_all((timN,len(domains)))\n",
    "varsignal_i = np.ma.masked_all((timN,len(domains)))\n",
    "# Initialize toe 1 and 2 for each basin (run, domain)\n",
    "toe1_a = np.ma.masked_all(len(domains))\n",
    "toe1_p = np.ma.masked_all(len(domains))\n",
    "toe1_i = np.ma.masked_all(len(domains))\n",
    "toe2_a = np.ma.masked_all(len(domains))\n",
    "toe2_p = np.ma.masked_all(len(domains))\n",
    "toe2_i = np.ma.masked_all(len(domains))\n",
    "# Initialize output variable\n",
    "varToE1 = np.ma.masked_all((basinN,len(domains))) # (basin,domain) 1std\n",
    "varToE2 = np.ma.masked_all((basinN,len(domains))) # (basin,domain) 2std\n",
    "\n",
    "# Loop over 5 domains\n",
    "for j, domain_name in enumerate(domains):\n",
    "    print('- ', j, domains[j])\n",
    "\n",
    "    # Select domain to average\n",
    "    domain = ToEdomainrcp85vshistNat(model['name'], domain_name)[0]\n",
    "    domain_char = ToEdomainrcp85vshistNat(model['name'], domain_name)[1]\n",
    "\n",
    "    # Average histNat and compute std\n",
    "    if domain['Atlantic'] != None:\n",
    "        varnoise_a[j] = np.ma.std(averageDom(varhn_gamma[:,1,:,:], 3, domain['Atlantic'], lat, density),axis=0)\n",
    "    if domain['Pacific'] != None:\n",
    "        varnoise_p[j] = np.ma.std(averageDom(varhn_gamma[:,2,:,:], 3, domain['Pacific'], lat, density),axis=0)\n",
    "    if domain['Indian'] != None:\n",
    "        varnoise_i[j] = np.ma.std(averageDom(varhn_gamma[:,3,:,:], 3, domain['Indian'], lat, density),axis=0)\n",
    "\n",
    "    # Average signal hist+RCP8.5 - histNat\n",
    "    if domain['Atlantic'] != None:\n",
    "        varsignal_a[0:145,j] = averageDom(varhrcp_gamma[0:145,1,:,:]-varhn_gamma[:,1,:,:], 3, domain['Atlantic'], lat, density)\n",
    "        varsignal_a[145:,j] = averageDom(varhrcp_gamma[145:,1,:,:]-varmeanhn[1,:,:], 3, domain['Atlantic'], lat, density)\n",
    "        \n",
    "    if domain['Pacific'] !=None:\n",
    "        varsignal_p[0:145,j] = averageDom(varhrcp_gamma[0:145,2,:,:]-varhn_gamma[:,2,:,:], 3, domain['Pacific'], lat, density)\n",
    "        varsignal_p[145:,j] = averageDom(varhrcp_gamma[145:,2,:,:]-varmeanhn[2,:,:], 3, domain['Pacific'], lat, density)\n",
    "        \n",
    "    if domain['Indian'] != None:\n",
    "        varsignal_i[0:145,j] = averageDom(varhrcp_gamma[0:145,3,:,:]-varhn_gamma[:,3,:,:], 3, domain['Indian'], lat, density)\n",
    "        varsignal_i[145:,j] = averageDom(varhrcp_gamma[145:,3,:,:]-varmeanhn[3,:,:], 3, domain['Indian'], lat, density)\n",
    "        \n",
    "    \n",
    "    # Compute ToE of averaged domain\n",
    "    if domain['Atlantic'] != None and np.ma.is_masked(varnoise_a[j]) == False:\n",
    "        toe2_a[j] = findToE(varsignal_a[:,j], varnoise_a[j], 2) + iniyear\n",
    "        toe1_a[j] = findToE(varsignal_a[:,j], varnoise_a[j], 1) + iniyear\n",
    "    if domain['Pacific'] != None and np.ma.is_masked(varnoise_p[j]) == False:\n",
    "        toe2_p[j] = findToE(varsignal_p[:,j], varnoise_p[j], 2) + iniyear\n",
    "        toe1_p[j] = findToE(varsignal_p[:,j], varnoise_p[j], 1) + iniyear\n",
    "    if domain['Indian'] != None and np.ma.is_masked(varnoise_i[j]) == False:\n",
    "        toe2_i[j] = findToE(varsignal_i[:,j], varnoise_i[j], 2) + iniyear\n",
    "        toe1_i[j] = findToE(varsignal_i[:,j], varnoise_i[j], 1) + iniyear\n",
    "\n",
    "varToE1[1,:] = toe1_a\n",
    "varToE1[2,:] = toe1_p\n",
    "varToE1[3,:] = toe1_i\n",
    "varToE2[1,:] = toe2_a\n",
    "varToE2[2,:] = toe2_p\n",
    "varToE2[3,:] = toe2_i"
   ]
  },
  {
   "cell_type": "code",
   "execution_count": 39,
   "metadata": {},
   "outputs": [],
   "source": [
    "# -- Now read regional ToE analyzed in density\n",
    "fileToE = '/home/ysilvy/Density_bining/Yona_analysis/data/toe_rcp85_histNat_average_signal/average_histNat/cmip5.IPSL-CM5A-LR.toe_rcp_histNat_average_histNat.nc'    \n",
    "fToE = open_ncfile(fileToE,'r')\n",
    "\n",
    "varToE2_gamma = fToE.variables[var+'ToE2'][2,:,:] # 2 = 3rd position corresponds to r2i1p1"
   ]
  },
  {
   "cell_type": "code",
   "execution_count": 43,
   "metadata": {},
   "outputs": [
    {
     "data": {
      "text/plain": [
       "(masked_array(\n",
       "   data=[[--, --, --, --, --],\n",
       "         [2023.0, 2037.0, --, 2008.0, --],\n",
       "         [1984.0, 2060.0, 1988.0, --, 2012.0],\n",
       "         [2006.0, 2045.0, 2009.0, --, --]],\n",
       "   mask=[[ True,  True,  True,  True,  True],\n",
       "         [False, False,  True, False,  True],\n",
       "         [False, False, False,  True, False],\n",
       "         [False, False, False,  True,  True]],\n",
       "   fill_value=9.96921e+36,\n",
       "   dtype=float32), masked_array(\n",
       "   data=[[--, --, --, --, --],\n",
       "         [2032.0, 2095.0, --, 2100.0, --],\n",
       "         [2040.0, 2100.0, 1989.0, --, 2041.0],\n",
       "         [2016.0, 2030.0, 2034.0, --, --]],\n",
       "   mask=[[ True,  True,  True,  True,  True],\n",
       "         [False, False,  True, False,  True],\n",
       "         [False, False, False,  True, False],\n",
       "         [False, False, False,  True,  True]],\n",
       "   fill_value=1e+20), (4, 5))"
      ]
     },
     "execution_count": 43,
     "metadata": {},
     "output_type": "execute_result"
    }
   ],
   "source": [
    "varToE2_gamma, varToE2, varToE2.shape"
   ]
  },
  {
   "cell_type": "code",
   "execution_count": 46,
   "metadata": {},
   "outputs": [],
   "source": [
    "ToEz = np.array([varToE2[1,0], varToE2[2,0], varToE2[3,0], varToE2[2,2], varToE2[3,2],\n",
    "          varToE2[1,1], varToE2[2,1], varToE2[3,1], varToE2[1,3], varToE2[2,4]])\n",
    "\n",
    "ToEgamma = np.array([varToE2_gamma[1,0], varToE2_gamma[2,0], varToE2_gamma[3,0], varToE2_gamma[2,2], varToE2_gamma[3,2],\n",
    "          varToE2_gamma[1,1], varToE2_gamma[2,1], varToE2_gamma[3,1], varToE2_gamma[1,3], varToE2_gamma[2,4]])\n",
    "\n",
    "domain_names = ['Southern ST, Atlantic','Southern ST, Pacific', 'Southern ST, Indian',\n",
    "              'Northern ST, Pacific', 'Northern ST, Indian',\n",
    "              'Southern Ocean, Atlantic','Southern Ocean, Pacific', 'Southern Ocean, Indian',\n",
    "              'North Atlantic',\n",
    "              'North Pacific']\n",
    "\n",
    "domain_colors = ['firebrick','darkorange','gold','yellowgreen','forestgreen',\n",
    "                 'turquoise','deepskyblue','royalblue','mediumpurple','darkmagenta']\n",
    "\n"
   ]
  },
  {
   "cell_type": "code",
   "execution_count": 48,
   "metadata": {},
   "outputs": [
    {
     "data": {
      "text/plain": [
       "(array([2032., 2040., 2016., 1989., 2034., 2095., 2100., 2030., 2100.,\n",
       "        2041.]),\n",
       " array([2023., 1984., 2006., 1988., 2009., 2037., 2060., 2045., 2008.,\n",
       "        2012.], dtype=float32))"
      ]
     },
     "execution_count": 48,
     "metadata": {},
     "output_type": "execute_result"
    }
   ],
   "source": [
    "ToEz, ToEgamma"
   ]
  },
  {
   "cell_type": "code",
   "execution_count": 81,
   "metadata": {},
   "outputs": [
    {
     "data": {
      "image/png": "[encoded data removed]",
      "text/plain": [
       "<Figure size 432x360 with 1 Axes>"
      ]
     },
     "metadata": {
      "needs_background": "light"
     },
     "output_type": "display_data"
    }
   ],
   "source": [
    "fig = plt.figure(figsize=(6,5))\n",
    "\n",
    "l=['']*len(domain_names)\n",
    "\n",
    "for idomain in range(len(domain_names)):\n",
    "    col = domain_colors[idomain]\n",
    "    l[idomain] = plt.scatter(ToEgamma[idomain],ToEz[idomain],color=col,s=20,facecolors='none', label=domain_names[idomain])\n",
    "ax = plt.gca()\n",
    "ax.set_title('ToE in regional boxes for '+model['name'] + ' r2i1p1 \\n method 1: average signal/noise then compute ToE',fontsize=14,fontweight='bold')\n",
    "\n",
    "# for tick in ax.get_xticklabels():\n",
    "#     tick.set_rotation(45)\n",
    "    \n",
    "ax.plot([1860,2000,2100],[1860,2000,2100], color='black', linestyle='--',zorder=1)\n",
    "\n",
    "ax.set_ylim([1960,2105])\n",
    "ax.set_xlim([1960,2105])\n",
    "xmajorLocator = MultipleLocator(40)\n",
    "xminorLocator = AutoMinorLocator(2)\n",
    "ax.yaxis.set_major_locator(xmajorLocator)\n",
    "ax.yaxis.set_minor_locator(xminorLocator)\n",
    "ax.xaxis.set_major_locator(xmajorLocator)\n",
    "ax.xaxis.set_minor_locator(xminorLocator)\n",
    "\n",
    "ax.set_xlabel('ToE analyzed in density', fontweight='bold',fontsize=13)\n",
    "ax.set_ylabel('ToE analyzed in pressure', fontweight='bold',fontsize=13)\n",
    "\n",
    "# # Shrink current axis by 20%\n",
    "# box = ax.get_position()\n",
    "# ax.set_position([box.x0, box.y0, box.width * 0.8, box.height])\n",
    "\n",
    "# Put a legend to the right of the current axis\n",
    "lgd = fig.legend(l,domain_names,loc='center left',scatterpoints=1,frameon=False, bbox_to_anchor=(0.9, 0.5))\n",
    "\n",
    "# Date\n",
    "now = datetime.datetime.now()\n",
    "date = now.strftime(\"%Y-%m-%d\")\n",
    "\n",
    "# Text at the bottom of the figure\n",
    "#plt.figtext(.8,.01,'Computed by : compute_toe_z_inboxes.ipynb, '+date, fontsize=8, ha='center')\n",
    "\n",
    "plotName = 'scatterplot_ToEzvsToEgamma_boxes'\n",
    "\n",
    "\n",
    "plt.savefig('/home/ysilvy/figures/models/ToE_z_analysis/'+plotName+'.pdf',bbox_extra_artists=(lgd,),bbox_inches='tight')\n"
   ]
  },
  {
   "cell_type": "markdown",
   "metadata": {},
   "source": [
    "# Now compare ToE in boxes by simply averaging ToE (not signal and noise first) "
   ]
  },
  {
   "cell_type": "code",
   "execution_count": 11,
   "metadata": {},
   "outputs": [],
   "source": [
    "indirz = '/home/ysilvy/Density_bining/Yona_analysis/data/toe_zonal_z/toe_rcp85_histNat/'\n",
    "indirr = '/home/ysilvy/Density_bining/Yona_analysis/data/toe_zonal/toe_rcp85_histNat/'\n",
    "# -- Read ToE in z mapped to gamma\n",
    "legVar = varname['legVar']\n",
    "filez = 'cmip5.IPSL-CM5A-LR.r2i1p1.'+legVar+'_toe_zonal_rcp_histNat.nc'\n",
    "fz = open_ncfile(indirz+filez,'r')\n",
    "toez = fz.variables[varName+'ToE2_gamma'][:] + 1860\n",
    "\n",
    "# -- Read ToE in gamma\n",
    "if v == 'S':\n",
    "    filerho = 'cmip5.IPSL-CM5A-LR.toe_zonal_rcp_histNat.nc'\n",
    "else:\n",
    "    filerho = 'cmip5.IPSL-CM5A-LR.Temperature_toe_zonal_rcp_histNat.nc'\n",
    "frho = open_ncfile(indirr+filerho,'r')\n",
    "toerho = frho.variables[var+'ToE2'][2,:,:,:] + 1860 # index 2 (3rd position) corresponds to run r2i1p1 (ls -U order)\n",
    "var_change = frho.variables[var+'_change'][2,:,:,:]\n",
    "toerho.fill_value = 1.e20\n",
    "\n",
    "if v=='S':\n",
    "    idx = np.argwhere(var_change.mask==True)\n",
    "    toerho[idx[:,0],idx[:,1],idx[:,2]] = np.ma.masked"
   ]
  },
  {
   "cell_type": "code",
   "execution_count": 12,
   "metadata": {},
   "outputs": [],
   "source": [
    "lat = fz.variables['latitude'][:]\n",
    "density = fz.variables['density'][:]"
   ]
  },
  {
   "cell_type": "code",
   "execution_count": 13,
   "metadata": {},
   "outputs": [
    {
     "data": {
      "text/plain": [
       "'cmip5.IPSL-CM5A-LR.Temperature_toe_zonal_rcp_histNat.nc'"
      ]
     },
     "execution_count": 13,
     "metadata": {},
     "output_type": "execute_result"
    }
   ],
   "source": [
    "filerho"
   ]
  },
  {
   "cell_type": "code",
   "execution_count": 14,
   "metadata": {},
   "outputs": [
    {
     "name": "stdout",
     "output_type": "stream",
     "text": [
      "('- ', 0, 'Southern ST')\n",
      "('- ', 1, 'SO')\n",
      "('- ', 2, 'Northern ST')\n",
      "('- ', 3, 'North Atlantic')\n",
      "('- ', 4, 'North Pacific')\n"
     ]
    }
   ],
   "source": [
    "# -- Average ToE in boxes\n",
    "basinN=4\n",
    "# Initialize ToE\n",
    "ToEz = np.ma.masked_all((basinN,len(domains)))\n",
    "ToErho = np.ma.masked_all((basinN,len(domains)))\n",
    "\n",
    "# Loop over 5 domains\n",
    "for j, domain_name in enumerate(domains):\n",
    "    print('- ', j, domains[j])\n",
    "\n",
    "    # Select domain to average\n",
    "    domain = ToEdomainrcp85vshistNat(model['name'], domain_name)[0]\n",
    "\n",
    "    # Average ToE\n",
    "    if domain['Atlantic'] != None:\n",
    "        ToEz[1,j] = np.int(averageDom(toez[1,:,:], 2, domain['Atlantic'], lat, density))\n",
    "        ToErho[1,j] = np.int(averageDom(toerho[1,:,:], 2, domain['Atlantic'], lat, density))\n",
    "    if domain['Pacific'] != None:\n",
    "        ToEz[2,j] = np.int(averageDom(toez[2,:,:], 2, domain['Pacific'], lat, density))\n",
    "        ToErho[2,j] = np.int(averageDom(toerho[2,:,:], 2, domain['Pacific'], lat, density))\n",
    "    if domain['Indian'] != None:\n",
    "        ToEz[3,j] = np.int(averageDom(toez[3,:,:], 2, domain['Indian'], lat, density))\n",
    "        ToErho[3,j] = np.int(averageDom(toerho[3,:,:], 2, domain['Indian'], lat, density))\n"
   ]
  },
  {
   "cell_type": "code",
   "execution_count": 15,
   "metadata": {},
   "outputs": [],
   "source": [
    "dataToEz = np.array([ToEz[1,0], ToEz[2,0], ToEz[3,0], ToEz[2,2], ToEz[3,2],\n",
    "          ToEz[1,1], ToEz[2,1], ToEz[3,1], ToEz[1,3], ToEz[2,4]])\n",
    "\n",
    "dataToErho = np.array([ToErho[1,0], ToErho[2,0], ToErho[3,0], ToErho[2,2], ToErho[3,2],\n",
    "          ToErho[1,1], ToErho[2,1], ToErho[3,1], ToErho[1,3], ToErho[2,4]])\n",
    "\n",
    "domain_names = ['Southern ST, Atlantic','Southern ST, Pacific', 'Southern ST, Indian',\n",
    "              'Northern ST, Pacific', 'Northern ST, Indian',\n",
    "              'Southern Ocean, Atlantic','Southern Ocean, Pacific', 'Southern Ocean, Indian',\n",
    "              'North Atlantic',\n",
    "              'North Pacific']\n",
    "\n",
    "domain_colors = ['firebrick','darkorange','gold','yellowgreen','forestgreen',\n",
    "                 'turquoise','deepskyblue','royalblue','mediumpurple','darkmagenta']\n",
    "\n"
   ]
  },
  {
   "cell_type": "code",
   "execution_count": 16,
   "metadata": {},
   "outputs": [
    {
     "data": {
      "text/plain": [
       "(array([1997., 2015., 2046., 2030., 2059., 2034., 2049., 2032., 2046.,\n",
       "        1996.]),\n",
       " array([2031., 1985., 2009., 1992., 2007., 2042., 2047., 2052., 2074.,\n",
       "        2026.]))"
      ]
     },
     "execution_count": 16,
     "metadata": {},
     "output_type": "execute_result"
    }
   ],
   "source": [
    "dataToEz, dataToErho"
   ]
  },
  {
   "cell_type": "code",
   "execution_count": 19,
   "metadata": {},
   "outputs": [
    {
     "data": {
      "image/png": "[encoded data removed]",
      "text/plain": [
       "<Figure size 432x360 with 1 Axes>"
      ]
     },
     "metadata": {
      "needs_background": "light"
     },
     "output_type": "display_data"
    }
   ],
   "source": [
    "fig = plt.figure(figsize=(6,5))\n",
    "\n",
    "l=['']*len(domain_names)\n",
    "\n",
    "for idomain in range(len(domain_names)):\n",
    "    col = domain_colors[idomain]\n",
    "    l[idomain] = plt.scatter(dataToErho[idomain],dataToEz[idomain],color=col,s=20,facecolors='none', label=domain_names[idomain])\n",
    "ax = plt.gca()\n",
    "ax.set_title('ToE of '+legVar+' in regional boxes for '+model['name'] + ' r2i1p1 \\n method 2: average ToE',fontsize=14,fontweight='bold')\n",
    "\n",
    "    \n",
    "ax.plot([1860,2000,2100],[1860,2000,2100], color='black', linestyle='--',zorder=1)\n",
    "\n",
    "ax.set_ylim([1960,2105])\n",
    "ax.set_xlim([1960,2105])\n",
    "xmajorLocator = MultipleLocator(40)\n",
    "xminorLocator = AutoMinorLocator(2)\n",
    "ax.yaxis.set_major_locator(xmajorLocator)\n",
    "ax.yaxis.set_minor_locator(xminorLocator)\n",
    "ax.xaxis.set_major_locator(xmajorLocator)\n",
    "ax.xaxis.set_minor_locator(xminorLocator)\n",
    "\n",
    "ax.set_xlabel('ToE analyzed in density', fontweight='bold',fontsize=13)\n",
    "ax.set_ylabel('ToE analyzed in pressure', fontweight='bold',fontsize=13)\n",
    "\n",
    "# # Shrink current axis by 20%\n",
    "# box = ax.get_position()\n",
    "# ax.set_position([box.x0, box.y0, box.width * 0.8, box.height])\n",
    "\n",
    "# Put a legend to the right of the current axis\n",
    "lgd = fig.legend(l,domain_names,loc='center left',scatterpoints=1,frameon=False, bbox_to_anchor=(0.9, 0.5))\n",
    "\n",
    "# Date\n",
    "now = datetime.datetime.now()\n",
    "date = now.strftime(\"%Y-%m-%d\")\n",
    "\n",
    "# Text at the bottom of the figure\n",
    "#plt.figtext(.8,.01,'Computed by : compute_toe_z_inboxes.ipynb, '+date, fontsize=8, ha='center')\n",
    "\n",
    "plotName = 'scatterplot_ToEzvsToEgamma_boxes_aveToE_'+v\n",
    "\n",
    "\n",
    "plt.savefig('/home/ysilvy/figures/models/ToE_z_analysis/'+plotName+'.pdf',bbox_extra_artists=(lgd,),bbox_inches='tight')\n"
   ]
  },
  {
   "cell_type": "code",
   "execution_count": null,
   "metadata": {},
   "outputs": [],
   "source": []
  }
 ],
 "metadata": {
  "kernelspec": {
   "display_name": "Python 3",
   "language": "python",
   "name": "python3"
  },
  "language_info": {
   "codemirror_mode": {
    "name": "ipython",
    "version": 3
   },
   "file_extension": ".py",
   "mimetype": "text/x-python",
   "name": "python",
   "nbconvert_exporter": "python",
   "pygments_lexer": "ipython3",
   "version": "3.6.7"
  }
 },
 "nbformat": 4,
 "nbformat_minor": 2
}
