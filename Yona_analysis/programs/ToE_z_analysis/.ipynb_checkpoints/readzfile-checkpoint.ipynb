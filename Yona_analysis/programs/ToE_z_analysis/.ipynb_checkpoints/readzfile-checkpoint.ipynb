{
 "cells": [
  {
   "cell_type": "markdown",
   "metadata": {},
   "source": [
    "# Write function that reads a netcdf file in so and in thetao, computes gamma neutral at each point and each time step, makes annual means, interpolates horizontally on regular grid, and makes zonal means"
   ]
  },
  {
   "cell_type": "code",
   "execution_count": 1,
   "metadata": {},
   "outputs": [],
   "source": [
    "# Import\n",
    "import os, glob, sys\n",
    "import numpy as np\n",
    "from netCDF4 import Dataset as open_ncfile\n",
    "import matplotlib.pyplot as plt\n",
    "# Add path to PYTHONPATH\n",
    "sys.path.append(\"/home/ysilvy/Density_bining/Yona_analysis/programs\")\n",
    "sys.path.append(\"/home/ysilvy/Density_bining/\")\n",
    "from binDensity import eosNeutral, maskVal\n",
    "import ESMF as ESMP\n",
    "import cdms2 as cdm\n",
    "from cdms2 import CdmsRegrid\n",
    "import MV2 as mv\n",
    "import time as timc"
   ]
  },
  {
   "cell_type": "code",
   "execution_count": 2,
   "metadata": {},
   "outputs": [],
   "source": [
    "indir = '/bdd/CMIP5/main/IPSL/IPSL-CM5A-LR/historical/mon/ocean/Omon/r2i1p1/latest/'"
   ]
  },
  {
   "cell_type": "code",
   "execution_count": 3,
   "metadata": {},
   "outputs": [],
   "source": [
    "# Arguments\n",
    "fileT = indir+'thetao/thetao_Omon_IPSL-CM5A-LR_historical_r2i1p1_185001-189912.nc'\n",
    "fileS = indir+'so/so_Omon_IPSL-CM5A-LR_historical_r2i1p1_185001-189912.nc'\n",
    "compute_gamma = True\n",
    "#file_mask = '/data/igcmg/database/grids/ORCA2.3_subbasins.nc'\n",
    "targetGridFile = '/home/ericglod/Density_bining/170224_WOD13_masks.nc'\n",
    "outdir = '/data/ysilvy/CMIP5_annual/'"
   ]
  },
  {
   "cell_type": "code",
   "execution_count": 4,
   "metadata": {},
   "outputs": [],
   "source": [
    "#def readzfile(fileT,fileS,compute_gamma,targetGridFile,outdir):"
   ]
  },
  {
   "cell_type": "code",
   "execution_count": 5,
   "metadata": {},
   "outputs": [
    {
     "name": "stdout",
     "output_type": "stream",
     "text": [
      "87.7554061413\n",
      "0.0922849178314\n"
     ]
    }
   ],
   "source": [
    "t0 = timc.time()\n",
    "# Open files to read\n",
    "ft = cdm.open(fileT)\n",
    "fs = cdm.open(fileS)\n",
    "thetao_h = ft('thetao', time = slice(1,2))\n",
    "so_h = fs('so', time = slice(1,10))\n",
    "\n",
    "# Horizontal grid\n",
    "ingrid  = thetao_h.getGrid()\n",
    "# Get grid objects\n",
    "axesList = thetao_h.getAxisList()\n",
    "\n",
    "depth=thetao_h.getLevel()\n",
    "# Define dimensions\n",
    "lonN    = thetao_h.shape[3]\n",
    "latN    = thetao_h.shape[2]\n",
    "depthN  = thetao_h.shape[1]\n",
    "timeax  = ft.getAxis('time')\n",
    "t1 = timc.time()\n",
    "print(t1-t0)\n",
    "\n",
    "thetaoLongName = thetao_h.long_name\n",
    "soLongName = so_h.long_name\n",
    "soUnits = so_h.units\n",
    "\n",
    "# Target horizonal grid for interp\n",
    "gridFile_f  = cdm.open(targetGridFile)\n",
    "maskg       = gridFile_f('basinmask3')\n",
    "outgrid     = maskg.getGrid()\n",
    "maski       = maskg.mask ; # Global mask\n",
    "# Regional masks\n",
    "maskAtl = maski*1 ; maskAtl[...] = True\n",
    "idxa = np.argwhere(maskg == 1).transpose()\n",
    "maskAtl[idxa[0],idxa[1]] = False\n",
    "maskPac = maski*1 ; maskPac[...] = True\n",
    "idxp = np.argwhere(maskg == 2).transpose()\n",
    "maskPac[idxp[0],idxp[1]] = False\n",
    "maskInd = maski*1 ; maskInd[...] = True\n",
    "idxi = np.argwhere(maskg == 3).transpose()\n",
    "maskInd[idxi[0],idxi[1]] = False\n",
    "loni    = maskg.getLongitude()\n",
    "lati    = maskg.getLatitude()\n",
    "Nii     = len(loni)\n",
    "Nji     = len(lati)\n",
    "\n",
    "gridFile_f.close()\n",
    "\n",
    "t2 = timc.time()\n",
    "print(t2-t1)"
   ]
  },
  {
   "cell_type": "code",
   "execution_count": 6,
   "metadata": {},
   "outputs": [],
   "source": [
    "# Outfile\n",
    "fname = os.path.basename(fileS)\n",
    "split = fname.split('_')\n",
    "split[0]='so_thetao_gamma'\n",
    "split[1]='Oan'\n",
    "fname_yearly='_'.join(split)\n",
    "outFile = outdir+fname_yearly\n",
    "outFile_f = cdm.open(outFile,'w')"
   ]
  },
  {
   "cell_type": "code",
   "execution_count": 7,
   "metadata": {},
   "outputs": [],
   "source": [
    "valmask  = 1.e20"
   ]
  },
  {
   "cell_type": "code",
   "execution_count": 8,
   "metadata": {},
   "outputs": [],
   "source": [
    "# Define time chunks\n",
    "tmin = 0\n",
    "tmax = timeax.shape[0] # Dimension of total time axis of infiles (total number of months)\n",
    "nyrtc = 5 # nb of years per time chunk\n",
    "tcdel = 5*12 # nb of months per time chunk\n",
    "tcmax = (tmax-tmin)/tcdel ; # number of time chunks"
   ]
  },
  {
   "cell_type": "code",
   "execution_count": 9,
   "metadata": {},
   "outputs": [],
   "source": [
    "# Initialize interpolated arrays on target grid - global and basin zonal means\n",
    "so_interp = np.ma.masked_all((nyrtc, depthN, Nji, Nii),dtype='float32')\n",
    "#np.ma.set_fill_value(so_interp,valmask)\n",
    "thetao_interp = np.ma.masked_all((nyrtc, depthN, Nji, Nii),dtype='float32')\n",
    "soa_interp, sop_interp, soi_interp, thetaoa_interp, thetaop_interp, thetaoi_interp = [np.ma.masked_all((nyrtc, depthN, Nji, Nii),dtype='float32') for _ in range(6)]\n",
    "if compute_gamma:\n",
    "    rhon_interp = np.ma.masked_all((nyrtc, depthN, Nji, Nii),dtype='float32')\n",
    "    rhona_interp, rhonp_interp, rhoni_interp = [np.ma.masked_all((nyrtc, depthN, Nji, Nii),dtype='float32') for _ in range(3)]"
   ]
  },
  {
   "cell_type": "code",
   "execution_count": 10,
   "metadata": {},
   "outputs": [
    {
     "name": "stdout",
     "output_type": "stream",
     "text": [
      "16.7301650047\n"
     ]
    }
   ],
   "source": [
    "# Interpolation init (regrid)\n",
    "t=timc.time()\n",
    "ESMP.ESMP_Initialize()\n",
    "regridObj = CdmsRegrid(ingrid,outgrid,so_interp.dtype,missing=valmask,regridMethod='distwgt',regridTool='esmf', coordSys='deg', diag = {},periodicity=1)\n",
    "print(timc.time()-t)"
   ]
  },
  {
   "cell_type": "code",
   "execution_count": 11,
   "metadata": {},
   "outputs": [],
   "source": [
    "# Define basin output axis\n",
    "basinAxis               = cdm.createAxis([0,1,2,3],bounds=None,id='basin')\n",
    "basinAxis.long_name     = 'ocean basin index'\n",
    "basinAxis.standard_name = 'basin'\n",
    "basinAxis.units         = 'basin index'\n",
    "basinAxis.units_long    = '0: global_ocean 1: atlantic_ocean; 2: pacific_ocean; 3: indian_ocean'\n",
    "basinAxis.axis          = 'B'\n",
    "\n",
    "# Create basin-zonal axes lists\n",
    "basinTimeList           = [axesList[0],basinAxis] ; # time, basin\n",
    "basinAxesList           = [axesList[0],basinAxis,axesList[2]] ; # time, basin, lat\n",
    "basinZAxesList        = [axesList[0],basinAxis,axesList[1],axesList[2]] ; # time, basin, depth, lat"
   ]
  },
  {
   "cell_type": "code",
   "execution_count": 12,
   "metadata": {},
   "outputs": [
    {
     "name": "stdout",
     "output_type": "stream",
     "text": [
      "('- time chunk: ', 0)\n",
      "('  months: ', 0, 60)\n",
      "('  Neutral density computed in ', 30.238943099975586)\n"
     ]
    }
   ],
   "source": [
    "# == Start loop on time chunks ==\n",
    "\n",
    "#for tc in range(tcmax): # Loop on time chunks\n",
    "tc=0\n",
    "print('- time chunk: ',tc)\n",
    "# read tcdel month by tcdel month to optimise memory\n",
    "trmin   = tmin + tc*tcdel ; # define as function of tc and tcdel\n",
    "trmax   = tmin + (tc+1)*tcdel ; # define as function of tc and tcdel\n",
    "print('  months: ',trmin,trmax)\n",
    "# Read salinity and temperature\n",
    "#so = fso.variables['so'][trmin:trmax,...]\n",
    "#thetao = fthetao.variables['thetao'][trmin:trmax,...]-273.15\n",
    "thetao  = ft('thetao', time = slice(trmin,trmax))-273.15\n",
    "so      = fs('so'    , time = slice(trmin,trmax))\n",
    "\n",
    "if compute_gamma:\n",
    "    # Compute neutral density\n",
    "    tbfrho = timc.time()\n",
    "    rhon = eosNeutral(thetao,so)-1000.\n",
    "    print('  Neutral density computed in ',timc.time()-tbfrho)\n"
   ]
  },
  {
   "cell_type": "code",
   "execution_count": 13,
   "metadata": {},
   "outputs": [],
   "source": [
    "# Turn into cdms variable\n",
    "time    = thetao.getTime()\n",
    "newAxesList = [axesList[0],axesList[1],axesList[2],axesList[3]]\n",
    "newAxesList[0]  = time ; # replace time axis\n",
    "So = cdm.createVariable(so, axes=newAxesList)\n",
    "Thetao = cdm.createVariable(thetao, axes=newAxesList)\n",
    "if compute_gamma:\n",
    "    Rhon = cdm.createVariable(rhon, axes=newAxesList)\n",
    "    \n",
    "# Year mean\n",
    "so_temp = np.ma.reshape(So,(nyrtc,12,depthN,latN,lonN))\n",
    "thetao_temp = np.ma.reshape(Thetao,(nyrtc,12,depthN,latN,lonN))\n",
    "so_yearly = np.ma.average(so_temp,axis=1)\n",
    "thetao_yearly = np.ma.average(thetao_temp,axis=1)\n",
    "if compute_gamma:\n",
    "    rhon_temp = np.ma.reshape(Rhon,(nyrtc,12,depthN,latN,lonN))\n",
    "    rhon_yearly = np.ma.average(rhon_temp,axis=1)\n"
   ]
  },
  {
   "cell_type": "code",
   "execution_count": 17,
   "metadata": {},
   "outputs": [
    {
     "data": {
      "text/plain": [
       "   id: time\n",
       "   Designated a time axis.\n",
       "   units:  days since 1850-01-01 00:00:00\n",
       "   Length: 60\n",
       "   First:  15.5\n",
       "   Last:   1809.5\n",
       "   Other axis attributes:\n",
       "      realtopology: linear\n",
       "      long_name: time\n",
       "      standard_name: time\n",
       "      calendar: noleap\n",
       "      axis: T\n",
       "   Python id:  0x2aaf6220cd10"
      ]
     },
     "execution_count": 17,
     "metadata": {},
     "output_type": "execute_result"
    }
   ],
   "source": [
    "time"
   ]
  },
  {
   "cell_type": "code",
   "execution_count": 84,
   "metadata": {},
   "outputs": [
    {
     "data": {
      "text/plain": [
       "45"
      ]
     },
     "execution_count": 84,
     "metadata": {},
     "output_type": "execute_result"
    }
   ],
   "source": [
    "540/12"
   ]
  },
  {
   "cell_type": "code",
   "execution_count": 14,
   "metadata": {},
   "outputs": [],
   "source": [
    "# Turn into cdms variable for horizontal interpolation\n",
    "so_yearly = cdm.createVariable(so_yearly)\n",
    "thetao_yearly = cdm.createVariable(thetao_yearly)\n",
    "rhon_yearly = cdm.createVariable(rhon_yearly)\n",
    "\n",
    "# Create annual time axis\n",
    "#timeyr          = cdm.createAxis(so_yearly.getAxis(0))\n",
    "timeyr = cdm.createAxis([0,1,2,3],bounds=None,id='time',units='years')\n",
    "#timeyr.id       = 'time'\n",
    "#timeyr.units    = 'years'\n",
    "timeyr.designateTime()\n",
    "newAxesList[0] = timeyr # replace time axis\n",
    "\n",
    "so_yearly.setAxisList(newAxesList)"
   ]
  },
  {
   "cell_type": "code",
   "execution_count": 88,
   "metadata": {},
   "outputs": [
    {
     "data": {
      "text/plain": [
       "   id: axis_0\n",
       "   Length: 5\n",
       "   First:  0.0\n",
       "   Last:   4.0\n",
       "   Other axis attributes:\n",
       "      realtopology: linear\n",
       "   Python id:  0x2aafd0247090"
      ]
     },
     "execution_count": 88,
     "metadata": {},
     "output_type": "execute_result"
    }
   ],
   "source": [
    "thetao_yearly.getAxis(0)"
   ]
  },
  {
   "cell_type": "code",
   "execution_count": 28,
   "metadata": {},
   "outputs": [],
   "source": [
    "# == Interpolate onto common grid ==\n",
    "for t in range(nyrtc):\n",
    "    for ks in range(depthN):\n",
    "        # Global\n",
    "        so_interp[t,ks,:,:]         = regridObj(so_yearly[t,ks,:,:])\n",
    "        so_interp[t,ks,:,:].mask    = maski\n",
    "        thetao_interp[t,ks,:,:]     = regridObj(thetao_yearly[t,ks,:,:])\n",
    "        thetao_interp[t,ks,:,:].mask= maski\n",
    "        if compute_gamma:\n",
    "            rhon_interp[t,ks,:,:]     = regridObj(rhon_yearly[t,ks,:,:])\n",
    "            rhon_interp[t,ks,:,:].mask= maski\n",
    "\n",
    "        # Atl\n",
    "        soa_interp[t,ks,:,:]          = so_interp[t,ks,:,:]*1.\n",
    "        soa_interp[t,ks,:,:].mask     = maskAtl\n",
    "        thetaoa_interp[t,ks,:,:]      = thetao_interp[t,ks,:,:]*1.\n",
    "        thetaoa_interp[t,ks,:,:].mask = maskAtl\n",
    "        if compute_gamma:\n",
    "            rhona_interp[t,ks,:,:]      = rhon_interp[t,ks,:,:]*1.\n",
    "            rhona_interp[t,ks,:,:].mask = maskAtl\n",
    "            \n",
    "        # Pac\n",
    "        sop_interp[t,ks,:,:]          = so_interp[t,ks,:,:]*1.\n",
    "        sop_interp[t,ks,:,:].mask     = maskPac\n",
    "        thetaop_interp[t,ks,:,:]      = thetao_interp[t,ks,:,:]*1.\n",
    "        thetaop_interp[t,ks,:,:].mask = maskPac\n",
    "        if compute_gamma:\n",
    "            rhonp_interp[t,ks,:,:]      = rhon_interp[t,ks,:,:]*1.\n",
    "            rhonp_interp[t,ks,:,:].mask = maskPac\n",
    "            \n",
    "        # Ind\n",
    "        soi_interp[t,ks,:,:]          = so_interp[t,ks,:,:]*1.\n",
    "        soi_interp[t,ks,:,:].mask     = maskInd\n",
    "        thetaoi_interp[t,ks,:,:]      = thetao_interp[t,ks,:,:]*1.\n",
    "        thetaoi_interp[t,ks,:,:].mask = maskInd\n",
    "        if compute_gamma:\n",
    "            rhoni_interp[t,ks,:,:]      = rhon_interp[t,ks,:,:]*1.\n",
    "            rhoni_interp[t,ks,:,:].mask = maskInd"
   ]
  },
  {
   "cell_type": "code",
   "execution_count": 29,
   "metadata": {},
   "outputs": [
    {
     "data": {
      "image/png": "[encoded data removed]",
      "text/plain": [
       "<Figure size 432x288 with 3 Axes>"
      ]
     },
     "metadata": {
      "needs_background": "light"
     },
     "output_type": "display_data"
    }
   ],
   "source": [
    "fig,ax=plt.subplots(2,1)\n",
    "ct=ax[0].contourf(so_yearly[0,0,:,:],levels=np.arange(30,40))\n",
    "ax[0].set_title('Original grid')\n",
    "ax[1].contourf(so_interp[0,0,:,:],levels=np.arange(30,40))\n",
    "ax[1].set_title('Target grid')\n",
    "cb=plt.colorbar(ct,ax=ax.ravel().tolist())"
   ]
  },
  {
   "cell_type": "code",
   "execution_count": 30,
   "metadata": {},
   "outputs": [],
   "source": [
    "# Mask after interpolation\n",
    "so_interp = maskVal(so_interp,valmask)\n",
    "soa_interp = maskVal(soa_interp,valmask)\n",
    "sop_interp = maskVal(sop_interp,valmask)\n",
    "soi_interp = maskVal(soi_interp,valmask)\n",
    "thetao_interp = maskVal(thetao_interp,valmask)\n",
    "thetaoa_interp = maskVal(thetaoa_interp,valmask)\n",
    "thetaop_interp = maskVal(thetaop_interp,valmask)\n",
    "thetaoi_interp = maskVal(thetaoi_interp,valmask)\n",
    "if compute_gamma:\n",
    "    rhon_interp = maskVal(rhon_interp,valmask)\n",
    "    rhona_interp = maskVal(rhona_interp,valmask)\n",
    "    rhonp_interp = maskVal(rhonp_interp,valmask)\n",
    "    rhoni_interp = maskVal(rhoni_interp,valmask)"
   ]
  },
  {
   "cell_type": "code",
   "execution_count": 73,
   "metadata": {},
   "outputs": [],
   "source": [
    "# == Compute zonal means ==\n",
    "soz = np.ma.average(so_interp, axis=3) # Global\n",
    "soza = np.ma.average(soa_interp, axis=3) # Atlantic\n",
    "sozp = np.ma.average(sop_interp, axis=3) # Pacific\n",
    "sozi = np.ma.average(soi_interp, axis=3) # Indian\n",
    "thetaoz = np.ma.average(thetao_interp, axis=3)\n",
    "thetaoza = np.ma.average(thetaoa_interp, axis=3)\n",
    "thetaozp = np.ma.average(thetaop_interp, axis=3)\n",
    "thetaozi = np.ma.average(thetaoi_interp, axis=3)\n",
    "if compute_gamma:\n",
    "    rhonz = np.ma.average(rhon_interp, axis=3)\n",
    "    rhonza = np.ma.average(rhona_interp, axis=3)\n",
    "    rhonzp = np.ma.average(rhonp_interp, axis=3)\n",
    "    rhonzi = np.ma.average(rhoni_interp, axis=3)"
   ]
  },
  {
   "cell_type": "code",
   "execution_count": 33,
   "metadata": {},
   "outputs": [
    {
     "data": {
      "text/plain": [
       "<matplotlib.colorbar.Colorbar at 0x2aaf9a599b90>"
      ]
     },
     "execution_count": 33,
     "metadata": {},
     "output_type": "execute_result"
    },
    {
     "data": {
      "image/png": "[encoded data removed]",
      "text/plain": [
       "<Figure size 432x288 with 2 Axes>"
      ]
     },
     "metadata": {
      "needs_background": "light"
     },
     "output_type": "display_data"
    }
   ],
   "source": [
    "lat2d,lev2d = np.meshgrid(lati[:],depth[:])\n",
    "plt.contourf(lat2d,lev2d,rhonz[0,:,:],levels=np.arange(21,29.5,0.5),extend='both')\n",
    "plt.ylim([0,5000])\n",
    "ax = plt.gca()\n",
    "ax.invert_yaxis()\n",
    "plt.colorbar()"
   ]
  },
  {
   "cell_type": "code",
   "execution_count": 79,
   "metadata": {},
   "outputs": [],
   "source": [
    "# == Write zonal means to outfile ==\n",
    "\n",
    "# Prepare axis\n",
    "timeBasinZAxesList = basinZAxesList\n",
    "timeBasinZAxesList[0] = timeyr ; # Replace monthly with annual\n",
    "timeBasinZAxesList[3] = lati ; # Replace lat with regrid target\n",
    "        \n",
    "# Collapse onto basin axis\n",
    "Sz = np.ma.stack([soz,soza,sozp,sozi],axis=1)\n",
    "#del(soz,soza,sozp,sozi)\n",
    "Sz = cdm.createVariable(Sz,axes=timeBasinZAxesList,id='salinity')\n",
    "Tz = np.ma.stack([thetaoz,thetaoza,thetaozp,thetaozi],axis=1)\n",
    "#del(thetaoz,thetaoza,thetaozp,thetaozi)\n",
    "Tz = cdm.createVariable(Tz,axes=timeBasinZAxesList,id='temperature')\n",
    "if compute_gamma:\n",
    "    Rz = np.ma.stack([rhonz,rhonza,rhonzp,rhonzi],axis=1)\n",
    "    #del(rhonz,rhonza,rhonzp,rhonzi)\n",
    "    Rz = cdm.createVariable(Rz,axes=timeBasinZAxesList,id='density')\n",
    "    \n",
    "if tc == 0:\n",
    "    # Global attributes\n",
    "    Sz.long_name  = soLongName\n",
    "    Sz.units = soUnits\n",
    "    Tz.long_name  = thetaoLongName\n",
    "    Tz.units      = 'degrees_C'\n",
    "    if compute_gamma:\n",
    "        Rz.long_name  = 'Neutral density'\n",
    "        Rz.units      = 'kg.m-3'\n",
    "\n",
    "# # Write & append\n",
    "# outFile_f.write(Sz.astype('float32'), extend = 1, index = (trmin-tmin)/12)\n",
    "# outFile_f.write(Tz.astype('float32'), extend = 1, index = (trmin-tmin)/12)\n",
    "# del(Sz,Tz) \n",
    "# if compute_gamma:\n",
    "#     outFile_f.write(Rz.astype('float32'), extend = 1, index = (trmin-tmin)/12)\n",
    "#     del(Rz)\n",
    "\n",
    "# outFile_f.sync()\n"
   ]
  },
  {
   "cell_type": "code",
   "execution_count": 35,
   "metadata": {},
   "outputs": [
    {
     "name": "stdout",
     "output_type": "stream",
     "text": [
      "Wrote file: /data/ysilvy/CMIP5_annual/so_thetao_gamma_Oan_IPSL-CM5A-LR_historical_r2i1p1_185001-189912.nc\n"
     ]
    }
   ],
   "source": [
    "# == End of loop on time chunks ==\n",
    "ft.close()\n",
    "fs.close()\n",
    "outFile_f.close()\n",
    "\n",
    "print('Wrote file: '+outFile)"
   ]
  },
  {
   "cell_type": "code",
   "execution_count": 81,
   "metadata": {},
   "outputs": [
    {
     "data": {
      "text/plain": [
       "temperature\n",
       "masked_array(\n",
       "  data=[[[[ 0.        ,  0.        ,  0.        , ..., -1.70409676,\n",
       "           -1.70365632, -1.70333027],\n",
       "          [ 0.        ,  0.        ,  0.        , ..., -1.70094411,\n",
       "           -1.7006499 , -1.70037367],\n",
       "          [ 0.        ,  0.        ,  0.        , ..., -1.69946805,\n",
       "           -1.69932036, -1.69884445],\n",
       "          ...,\n",
       "          [ 0.        ,  0.        ,  0.        , ...,  0.87410805,\n",
       "            0.87455252,  0.87584911],\n",
       "          [ 0.        ,  0.        ,  0.        , ...,  0.        ,\n",
       "            0.        ,  0.        ],\n",
       "          [ 0.        ,  0.        ,  0.        , ...,  0.        ,\n",
       "            0.        ,  0.        ]],\n",
       "\n",
       "         [[ 0.        ,  0.        ,  0.        , ..., -1.70409676,\n",
       "           -1.70365632, -1.70333027],\n",
       "          [ 0.        ,  0.        ,  0.        , ..., -1.70094411,\n",
       "           -1.7006499 , -1.70037367],\n",
       "          [ 0.        ,  0.        ,  0.        , ..., -1.69946805,\n",
       "           -1.69932036, -1.69884445],\n",
       "          ...,\n",
       "          [ 0.        ,  0.        ,  0.        , ...,  0.87410805,\n",
       "            0.87455252,  0.87584911],\n",
       "          [ 0.        ,  0.        ,  0.        , ...,  0.        ,\n",
       "            0.        ,  0.        ],\n",
       "          [ 0.        ,  0.        ,  0.        , ...,  0.        ,\n",
       "            0.        ,  0.        ]],\n",
       "\n",
       "         [[ 0.        ,  0.        ,  0.        , ...,  0.        ,\n",
       "            0.        ,  0.        ],\n",
       "          [ 0.        ,  0.        ,  0.        , ...,  0.        ,\n",
       "            0.        ,  0.        ],\n",
       "          [ 0.        ,  0.        ,  0.        , ...,  0.        ,\n",
       "            0.        ,  0.        ],\n",
       "          ...,\n",
       "          [ 0.        ,  0.        ,  0.        , ...,  0.        ,\n",
       "            0.        ,  0.        ],\n",
       "          [ 0.        ,  0.        ,  0.        , ...,  0.        ,\n",
       "            0.        ,  0.        ],\n",
       "          [ 0.        ,  0.        ,  0.        , ...,  0.        ,\n",
       "            0.        ,  0.        ]],\n",
       "\n",
       "         [[ 0.        ,  0.        ,  0.        , ...,  0.        ,\n",
       "            0.        ,  0.        ],\n",
       "          [ 0.        ,  0.        ,  0.        , ...,  0.        ,\n",
       "            0.        ,  0.        ],\n",
       "          [ 0.        ,  0.        ,  0.        , ...,  0.        ,\n",
       "            0.        ,  0.        ],\n",
       "          ...,\n",
       "          [ 0.        ,  0.        ,  0.        , ...,  0.        ,\n",
       "            0.        ,  0.        ],\n",
       "          [ 0.        ,  0.        ,  0.        , ...,  0.        ,\n",
       "            0.        ,  0.        ],\n",
       "          [ 0.        ,  0.        ,  0.        , ...,  0.        ,\n",
       "            0.        ,  0.        ]]],\n",
       "\n",
       "\n",
       "        [[[ 0.        ,  0.        ,  0.        , ..., -1.71245822,\n",
       "           -1.71098336, -1.71038906],\n",
       "          [ 0.        ,  0.        ,  0.        , ..., -1.70858649,\n",
       "           -1.70686332, -1.70557379],\n",
       "          [ 0.        ,  0.        ,  0.        , ..., -1.70849538,\n",
       "           -1.70710305, -1.70583957],\n",
       "          ...,\n",
       "          [ 0.        ,  0.        ,  0.        , ...,  0.87337411,\n",
       "            0.87388461,  0.87525265],\n",
       "          [ 0.        ,  0.        ,  0.        , ...,  0.        ,\n",
       "            0.        ,  0.        ],\n",
       "          [ 0.        ,  0.        ,  0.        , ...,  0.        ,\n",
       "            0.        ,  0.        ]],\n",
       "\n",
       "         [[ 0.        ,  0.        ,  0.        , ..., -1.71245822,\n",
       "           -1.71098336, -1.71038906],\n",
       "          [ 0.        ,  0.        ,  0.        , ..., -1.70858649,\n",
       "           -1.70686332, -1.70557379],\n",
       "          [ 0.        ,  0.        ,  0.        , ..., -1.70849538,\n",
       "           -1.70710305, -1.70583957],\n",
       "          ...,\n",
       "          [ 0.        ,  0.        ,  0.        , ...,  0.87337411,\n",
       "            0.87388461,  0.87525265],\n",
       "          [ 0.        ,  0.        ,  0.        , ...,  0.        ,\n",
       "            0.        ,  0.        ],\n",
       "          [ 0.        ,  0.        ,  0.        , ...,  0.        ,\n",
       "            0.        ,  0.        ]],\n",
       "\n",
       "         [[ 0.        ,  0.        ,  0.        , ...,  0.        ,\n",
       "            0.        ,  0.        ],\n",
       "          [ 0.        ,  0.        ,  0.        , ...,  0.        ,\n",
       "            0.        ,  0.        ],\n",
       "          [ 0.        ,  0.        ,  0.        , ...,  0.        ,\n",
       "            0.        ,  0.        ],\n",
       "          ...,\n",
       "          [ 0.        ,  0.        ,  0.        , ...,  0.        ,\n",
       "            0.        ,  0.        ],\n",
       "          [ 0.        ,  0.        ,  0.        , ...,  0.        ,\n",
       "            0.        ,  0.        ],\n",
       "          [ 0.        ,  0.        ,  0.        , ...,  0.        ,\n",
       "            0.        ,  0.        ]],\n",
       "\n",
       "         [[ 0.        ,  0.        ,  0.        , ...,  0.        ,\n",
       "            0.        ,  0.        ],\n",
       "          [ 0.        ,  0.        ,  0.        , ...,  0.        ,\n",
       "            0.        ,  0.        ],\n",
       "          [ 0.        ,  0.        ,  0.        , ...,  0.        ,\n",
       "            0.        ,  0.        ],\n",
       "          ...,\n",
       "          [ 0.        ,  0.        ,  0.        , ...,  0.        ,\n",
       "            0.        ,  0.        ],\n",
       "          [ 0.        ,  0.        ,  0.        , ...,  0.        ,\n",
       "            0.        ,  0.        ],\n",
       "          [ 0.        ,  0.        ,  0.        , ...,  0.        ,\n",
       "            0.        ,  0.        ]]],\n",
       "\n",
       "\n",
       "        [[[ 0.        ,  0.        ,  0.        , ..., -1.72285484,\n",
       "           -1.7227725 , -1.72247156],\n",
       "          [ 0.        ,  0.        ,  0.        , ..., -1.72264308,\n",
       "           -1.72260192, -1.72240261],\n",
       "          [ 0.        ,  0.        ,  0.        , ..., -1.72340896,\n",
       "           -1.72333716, -1.7235811 ],\n",
       "          ...,\n",
       "          [ 0.        ,  0.        ,  0.        , ...,  0.87257136,\n",
       "            0.87312294,  0.87460092],\n",
       "          [ 0.        ,  0.        ,  0.        , ...,  0.        ,\n",
       "            0.        ,  0.        ],\n",
       "          [ 0.        ,  0.        ,  0.        , ...,  0.        ,\n",
       "            0.        ,  0.        ]],\n",
       "\n",
       "         [[ 0.        ,  0.        ,  0.        , ..., -1.72285484,\n",
       "           -1.7227725 , -1.72247156],\n",
       "          [ 0.        ,  0.        ,  0.        , ..., -1.72264308,\n",
       "           -1.72260192, -1.72240261],\n",
       "          [ 0.        ,  0.        ,  0.        , ..., -1.72340896,\n",
       "           -1.72333716, -1.7235811 ],\n",
       "          ...,\n",
       "          [ 0.        ,  0.        ,  0.        , ...,  0.87257136,\n",
       "            0.87312294,  0.87460092],\n",
       "          [ 0.        ,  0.        ,  0.        , ...,  0.        ,\n",
       "            0.        ,  0.        ],\n",
       "          [ 0.        ,  0.        ,  0.        , ...,  0.        ,\n",
       "            0.        ,  0.        ]],\n",
       "\n",
       "         [[ 0.        ,  0.        ,  0.        , ...,  0.        ,\n",
       "            0.        ,  0.        ],\n",
       "          [ 0.        ,  0.        ,  0.        , ...,  0.        ,\n",
       "            0.        ,  0.        ],\n",
       "          [ 0.        ,  0.        ,  0.        , ...,  0.        ,\n",
       "            0.        ,  0.        ],\n",
       "          ...,\n",
       "          [ 0.        ,  0.        ,  0.        , ...,  0.        ,\n",
       "            0.        ,  0.        ],\n",
       "          [ 0.        ,  0.        ,  0.        , ...,  0.        ,\n",
       "            0.        ,  0.        ],\n",
       "          [ 0.        ,  0.        ,  0.        , ...,  0.        ,\n",
       "            0.        ,  0.        ]],\n",
       "\n",
       "         [[ 0.        ,  0.        ,  0.        , ...,  0.        ,\n",
       "            0.        ,  0.        ],\n",
       "          [ 0.        ,  0.        ,  0.        , ...,  0.        ,\n",
       "            0.        ,  0.        ],\n",
       "          [ 0.        ,  0.        ,  0.        , ...,  0.        ,\n",
       "            0.        ,  0.        ],\n",
       "          ...,\n",
       "          [ 0.        ,  0.        ,  0.        , ...,  0.        ,\n",
       "            0.        ,  0.        ],\n",
       "          [ 0.        ,  0.        ,  0.        , ...,  0.        ,\n",
       "            0.        ,  0.        ],\n",
       "          [ 0.        ,  0.        ,  0.        , ...,  0.        ,\n",
       "            0.        ,  0.        ]]],\n",
       "\n",
       "\n",
       "        [[[ 0.        ,  0.        ,  0.        , ..., -1.715421  ,\n",
       "           -1.71669862, -1.71701428],\n",
       "          [ 0.        ,  0.        ,  0.        , ..., -1.71488841,\n",
       "           -1.71626767, -1.71657912],\n",
       "          [ 0.        ,  0.        ,  0.        , ..., -1.71500924,\n",
       "           -1.71643843, -1.71692299],\n",
       "          ...,\n",
       "          [ 0.        ,  0.        ,  0.        , ...,  0.87183422,\n",
       "            0.87235503,  0.87382693],\n",
       "          [ 0.        ,  0.        ,  0.        , ...,  0.        ,\n",
       "            0.        ,  0.        ],\n",
       "          [ 0.        ,  0.        ,  0.        , ...,  0.        ,\n",
       "            0.        ,  0.        ]],\n",
       "\n",
       "         [[ 0.        ,  0.        ,  0.        , ..., -1.715421  ,\n",
       "           -1.71669862, -1.71701428],\n",
       "          [ 0.        ,  0.        ,  0.        , ..., -1.71488841,\n",
       "           -1.71626767, -1.71657912],\n",
       "          [ 0.        ,  0.        ,  0.        , ..., -1.71500924,\n",
       "           -1.71643843, -1.71692299],\n",
       "          ...,\n",
       "          [ 0.        ,  0.        ,  0.        , ...,  0.87183422,\n",
       "            0.87235503,  0.87382693],\n",
       "          [ 0.        ,  0.        ,  0.        , ...,  0.        ,\n",
       "            0.        ,  0.        ],\n",
       "          [ 0.        ,  0.        ,  0.        , ...,  0.        ,\n",
       "            0.        ,  0.        ]],\n",
       "\n",
       "         [[ 0.        ,  0.        ,  0.        , ...,  0.        ,\n",
       "            0.        ,  0.        ],\n",
       "          [ 0.        ,  0.        ,  0.        , ...,  0.        ,\n",
       "            0.        ,  0.        ],\n",
       "          [ 0.        ,  0.        ,  0.        , ...,  0.        ,\n",
       "            0.        ,  0.        ],\n",
       "          ...,\n",
       "          [ 0.        ,  0.        ,  0.        , ...,  0.        ,\n",
       "            0.        ,  0.        ],\n",
       "          [ 0.        ,  0.        ,  0.        , ...,  0.        ,\n",
       "            0.        ,  0.        ],\n",
       "          [ 0.        ,  0.        ,  0.        , ...,  0.        ,\n",
       "            0.        ,  0.        ]],\n",
       "\n",
       "         [[ 0.        ,  0.        ,  0.        , ...,  0.        ,\n",
       "            0.        ,  0.        ],\n",
       "          [ 0.        ,  0.        ,  0.        , ...,  0.        ,\n",
       "            0.        ,  0.        ],\n",
       "          [ 0.        ,  0.        ,  0.        , ...,  0.        ,\n",
       "            0.        ,  0.        ],\n",
       "          ...,\n",
       "          [ 0.        ,  0.        ,  0.        , ...,  0.        ,\n",
       "            0.        ,  0.        ],\n",
       "          [ 0.        ,  0.        ,  0.        , ...,  0.        ,\n",
       "            0.        ,  0.        ],\n",
       "          [ 0.        ,  0.        ,  0.        , ...,  0.        ,\n",
       "            0.        ,  0.        ]]],\n",
       "\n",
       "\n",
       "        [[[ 0.        ,  0.        ,  0.        , ..., -1.7086324 ,\n",
       "           -1.70677194, -1.70549886],\n",
       "          [ 0.        ,  0.        ,  0.        , ..., -1.7076327 ,\n",
       "           -1.70568777, -1.70433022],\n",
       "          [ 0.        ,  0.        ,  0.        , ..., -1.707619  ,\n",
       "           -1.70627272, -1.70498877],\n",
       "          ...,\n",
       "          [ 0.        ,  0.        ,  0.        , ...,  0.87134712,\n",
       "            0.87178386,  0.87320406],\n",
       "          [ 0.        ,  0.        ,  0.        , ...,  0.        ,\n",
       "            0.        ,  0.        ],\n",
       "          [ 0.        ,  0.        ,  0.        , ...,  0.        ,\n",
       "            0.        ,  0.        ]],\n",
       "\n",
       "         [[ 0.        ,  0.        ,  0.        , ..., -1.7086324 ,\n",
       "           -1.70677194, -1.70549886],\n",
       "          [ 0.        ,  0.        ,  0.        , ..., -1.7076327 ,\n",
       "           -1.70568777, -1.70433022],\n",
       "          [ 0.        ,  0.        ,  0.        , ..., -1.707619  ,\n",
       "           -1.70627272, -1.70498877],\n",
       "          ...,\n",
       "          [ 0.        ,  0.        ,  0.        , ...,  0.87134712,\n",
       "            0.87178386,  0.87320406],\n",
       "          [ 0.        ,  0.        ,  0.        , ...,  0.        ,\n",
       "            0.        ,  0.        ],\n",
       "          [ 0.        ,  0.        ,  0.        , ...,  0.        ,\n",
       "            0.        ,  0.        ]],\n",
       "\n",
       "         [[ 0.        ,  0.        ,  0.        , ...,  0.        ,\n",
       "            0.        ,  0.        ],\n",
       "          [ 0.        ,  0.        ,  0.        , ...,  0.        ,\n",
       "            0.        ,  0.        ],\n",
       "          [ 0.        ,  0.        ,  0.        , ...,  0.        ,\n",
       "            0.        ,  0.        ],\n",
       "          ...,\n",
       "          [ 0.        ,  0.        ,  0.        , ...,  0.        ,\n",
       "            0.        ,  0.        ],\n",
       "          [ 0.        ,  0.        ,  0.        , ...,  0.        ,\n",
       "            0.        ,  0.        ],\n",
       "          [ 0.        ,  0.        ,  0.        , ...,  0.        ,\n",
       "            0.        ,  0.        ]],\n",
       "\n",
       "         [[ 0.        ,  0.        ,  0.        , ...,  0.        ,\n",
       "            0.        ,  0.        ],\n",
       "          [ 0.        ,  0.        ,  0.        , ...,  0.        ,\n",
       "            0.        ,  0.        ],\n",
       "          [ 0.        ,  0.        ,  0.        , ...,  0.        ,\n",
       "            0.        ,  0.        ],\n",
       "          ...,\n",
       "          [ 0.        ,  0.        ,  0.        , ...,  0.        ,\n",
       "            0.        ,  0.        ],\n",
       "          [ 0.        ,  0.        ,  0.        , ...,  0.        ,\n",
       "            0.        ,  0.        ],\n",
       "          [ 0.        ,  0.        ,  0.        , ...,  0.        ,\n",
       "            0.        ,  0.        ]]]],\n",
       "  mask=False,\n",
       "  fill_value=1e+20)"
      ]
     },
     "execution_count": 81,
     "metadata": {},
     "output_type": "execute_result"
    }
   ],
   "source": [
    "Tz"
   ]
  },
  {
   "cell_type": "code",
   "execution_count": null,
   "metadata": {},
   "outputs": [],
   "source": [
    "# Old bad way to make zonal means \n",
    "# # Make zonal masks\n",
    "# atlmsk = fmask.variables['atlmsk'][:]\n",
    "# pacmsk = fmask.variables['pacmsk'][:]\n",
    "# indmsk = fmask.variables['indmsk'][:]\n",
    "# maska = np.ma.make_mask(1-atlmsk)\n",
    "# maska = np.repeat(maska[np.newaxis,:,:],dims[1],axis=0)\n",
    "# maska = np.repeat(maska[np.newaxis,:,:,:],nyrtc,axis=0)\n",
    "# maskp = np.ma.make_mask(1-pacmsk)\n",
    "# maskp = np.repeat(maskp[np.newaxis,:,:],dims[1],axis=0)\n",
    "# maskp = np.repeat(maskp[np.newaxis,:,:,:],nyrtc,axis=0)\n",
    "# maski = np.ma.make_mask(1-indmsk)\n",
    "# maski = np.repeat(maski[np.newaxis,:,:],dims[1],axis=0)\n",
    "# maski = np.repeat(maski[np.newaxis,:,:,:],nyrtc,axis=0)\n",
    "\n",
    "# # Salinity\n",
    "# soatl = np.ma.array(so_yearly,mask=maska)\n",
    "# sopac = np.ma.array(so_yearly,mask=maskp)\n",
    "# soind = np.ma.array(so_yearly,mask=maski)\n",
    "# # Temperature\n",
    "# thetaoatl = np.ma.array(thetao_yearly,mask=maska)\n",
    "# thetaopac = np.ma.array(thetao_yearly,mask=maskp)\n",
    "# thetaoind = np.ma.array(thetao_yearly,mask=maski)\n",
    "# # Neutral density\n",
    "# rhonatl = np.ma.array(rhon_yearly,mask=maska)\n",
    "# rhonpac = np.ma.array(rhon_yearly,mask=maskp)\n",
    "# rhonind = np.ma.array(rhon_yearly,mask=maski)\n",
    "\n",
    "# # Make zonal means\n",
    "# # Salinity\n",
    "# so_zon = np.ma.average(so_yearly,axis=3)\n",
    "# soatl_zon = np.ma.average(soatl,axis=3)\n",
    "# sopac_zon = np.ma.average(sopac,axis=3)\n",
    "# soind_zon = np.ma.average(soind,axis=3)\n",
    "# # Temperature\n",
    "# thetao_zon = np.ma.average(thetao_yearly,axis=3)\n",
    "# thetaoatl_zon = np.ma.average(thetaoatl,axis=3)\n",
    "# thetaopac_zon = np.ma.average(thetaopac,axis=3)\n",
    "# thetaoind_zon = np.ma.average(thetaoind,axis=3)\n",
    "# # Neutral density\n",
    "# rhon_zon = np.ma.average(rhon_yearly,axis=3)\n",
    "# rhonatl_zon = np.ma.average(rhonatl,axis=3)\n",
    "# rhonpac_zon = np.ma.average(rhonpac,axis=3)\n",
    "# rhonind_zon = np.ma.average(rhonind,axis=3)"
   ]
  }
 ],
 "metadata": {
  "kernelspec": {
   "display_name": "Python [conda env:cdat81] *",
   "language": "python",
   "name": "conda-env-cdat81-py"
  },
  "language_info": {
   "codemirror_mode": {
    "name": "ipython",
    "version": 2
   },
   "file_extension": ".py",
   "mimetype": "text/x-python",
   "name": "python",
   "nbconvert_exporter": "python",
   "pygments_lexer": "ipython2",
   "version": "2.7.15"
  }
 },
 "nbformat": 4,
 "nbformat_minor": 2
}
