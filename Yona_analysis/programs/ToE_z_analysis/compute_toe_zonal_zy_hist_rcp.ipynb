{
 "cells": [
  {
   "cell_type": "markdown",
   "metadata": {},
   "source": [
    "# Compute ToE hist + RCP85 vs. histNat (or PiControl) in lat/depth domain for one model, save ToE in output files"
   ]
  },
  {
   "cell_type": "code",
   "execution_count": 28,
   "metadata": {},
   "outputs": [],
   "source": [
    "import sys\n",
    "sys.path.append(\"/home/ysilvy/Density_bining/\")\n",
    "sys.path.append(\"/home/ysilvy/Density_bining/Yona_analysis/programs/\")\n",
    "import numpy as np\n",
    "from netCDF4 import Dataset as open_ncfile\n",
    "from maps_matplot_lib import defVarmme\n",
    "from libToE import findToE\n",
    "import glob\n",
    "from functions_z_analysis import maptogamma\n",
    "from binDensity import rhonGrid"
   ]
  },
  {
   "cell_type": "code",
   "execution_count": 29,
   "metadata": {},
   "outputs": [],
   "source": [
    "# ----- Workspace ------\n",
    "\n",
    "indir_histrcp85 = '/data/ysilvy/CMIP5_annual/'\n",
    "indir_histNat = '/data/ysilvy/CMIP5_annual/'\n",
    "\n",
    "# ----- Work ------\n",
    "\n",
    "model = {'name':'IPSL-CM5A-LR'  ,'props':[6,3,11,156], 'picontrol':[1000],'correctFile':[0,0,0],\n",
    "          'file_end_hist':'v20111119', 'file_end_histNat':'v20120430',\n",
    "          'hist-rcp85':['r2i1p1','r3i1p1','r4i1p1']}\n",
    "\n",
    "varname = defVarmme('salinity'); v = 'S'\n",
    "#varname = defVarmme('temperature'); v = 'T'\n",
    "\n",
    "multStd = 2. # detect ToE at multStd std dev of histNat or PiControl\n",
    "\n",
    "use_piC = False # Signal = (hist-histNat) + RCP8.5-average(histNat), noise = std(histNat)\n",
    "# use_piC = True # Signal = hist + RCP8.5 - PiControl, noise = std(PiControl)\n",
    "\n",
    "iniyear = 1860\n",
    "finalyear = 2100\n",
    "deltay = 10.\n",
    "\n",
    "# Define variable properties\n",
    "legVar = varname['legVar']\n",
    "unit = varname['unit']\n",
    "\n",
    "if v=='S':\n",
    "    var = 'salinity'\n",
    "elif v=='T':\n",
    "    var = 'temperature'\n",
    "\n",
    "#model = models[10] # IPSL-CM5A-LR"
   ]
  },
  {
   "cell_type": "code",
   "execution_count": 30,
   "metadata": {},
   "outputs": [
    {
     "name": "stdout",
     "output_type": "stream",
     "text": [
      "('Computing ToE for ', 'IPSL-CM5A-LR')\n"
     ]
    }
   ],
   "source": [
    "# ----- Compute zonal ToE ------\n",
    "\n",
    "print('Computing ToE for ',model['name'])\n",
    "\n",
    "# Index of common time interval\n",
    "tstart = model['props'][2]\n",
    "tend = model['props'][3]\n",
    "\n",
    "# Read histNat\n",
    "filehn='so_thetao_gamma_Oan_IPSL-CM5A-LR_historicalNat_r2i1p1_185001-201012.nc'\n",
    "fhn = open_ncfile(indir_histNat+filehn,'r')\n",
    "\n",
    "# Read historical + rcp8.5\n",
    "filehrcp = 'so_thetao_gamma_Oan_IPSL-CM5A-LR_historical-rcp85_r2i1p1_185001-210012.nc'\n",
    "fhrcp = open_ncfile(indir_histrcp85+filehrcp,'r')\n",
    "\n",
    "lat = fhn.variables['latitude'][:]\n",
    "depth = fhn.variables['lev'][:]\n",
    "latN = len(lat)\n",
    "depthN = len(depth)\n",
    "basinN=4\n",
    "timN = 240"
   ]
  },
  {
   "cell_type": "code",
   "execution_count": 31,
   "metadata": {},
   "outputs": [],
   "source": [
    "# Read var histNat\n",
    "varhn_a = fhn.variables[var][tstart:tend,1,:,:].squeeze()\n",
    "varhn_p = fhn.variables[var][tstart:tend,2,:,:].squeeze()\n",
    "varhn_i = fhn.variables[var][tstart:tend,3,:,:].squeeze()\n",
    "\n",
    "# Compute std of histNat\n",
    "stdvarhn_a = np.ma.std(varhn_a, axis=0)\n",
    "stdvarhn_i = np.ma.std(varhn_p, axis=0)\n",
    "stdvarhn_p = np.ma.std(varhn_i, axis=0)\n",
    "\n",
    "# Compute time average of the whole histNat series (signal over projection = RCP - mean(histNat))\n",
    "meanvarhn_a = np.ma.mean(varhn_a, axis=0)\n",
    "meanvarhn_p = np.ma.mean(varhn_p, axis=0)\n",
    "meanvarhn_i = np.ma.mean(varhn_i, axis=0)\n",
    "\n",
    "# Reorganise i,j dims in single dimension data (speeds up loops)\n",
    "varnoise_a = np.reshape(stdvarhn_a, (depthN*latN))\n",
    "varnoise_p = np.reshape(stdvarhn_p, (depthN*latN))\n",
    "varnoise_i = np.reshape(stdvarhn_i, (depthN*latN))"
   ]
  },
  {
   "cell_type": "code",
   "execution_count": 32,
   "metadata": {},
   "outputs": [
    {
     "data": {
      "text/plain": [
       "(145, 31, 180)"
      ]
     },
     "execution_count": 32,
     "metadata": {},
     "output_type": "execute_result"
    }
   ],
   "source": [
    "varhn_a.shape\n",
    "#varnoise_a.shape"
   ]
  },
  {
   "cell_type": "code",
   "execution_count": 33,
   "metadata": {},
   "outputs": [],
   "source": [
    "# Read var hist + RCP8.5\n",
    "varhrcp_a = fhrcp.variables[var][tstart-1:tend+95,1,:,:].squeeze()\n",
    "varhrcp_p = fhrcp.variables[var][tstart-1:tend+95,2,:,:].squeeze()\n",
    "varhrcp_i = fhrcp.variables[var][tstart-1:tend+95,3,:,:].squeeze()"
   ]
  },
  {
   "cell_type": "code",
   "execution_count": 34,
   "metadata": {},
   "outputs": [
    {
     "data": {
      "text/plain": [
       "(240, 31, 180)"
      ]
     },
     "execution_count": 34,
     "metadata": {},
     "output_type": "execute_result"
    }
   ],
   "source": [
    "varhrcp_a.shape"
   ]
  },
  {
   "cell_type": "code",
   "execution_count": 35,
   "metadata": {},
   "outputs": [],
   "source": [
    "# Initialize and fill var_signal for each basin (timN, depth, latitude)\n",
    "varsignal_a = np.ma.masked_all((timN,depthN,latN))\n",
    "varsignal_p = np.ma.masked_all((timN,depthN,latN))\n",
    "varsignal_i = np.ma.masked_all((timN,depthN,latN))\n",
    "\n",
    "varsignal_a[0:145,:,:] = varhrcp_a[0:145,:,:]-varhn_a\n",
    "varsignal_p[0:145,:,:] = varhrcp_p[0:145,:,:]-varhn_p\n",
    "varsignal_i[0:145,:,:] = varhrcp_i[0:145,:,:]-varhn_i\n",
    "varsignal_a[145:,:,:] = varhrcp_a[145:,:,:]-meanvarhn_a\n",
    "varsignal_p[145:,:,:] = varhrcp_p[145:,:,:]-meanvarhn_p\n",
    "varsignal_i[145:,:,:] = varhrcp_i[145:,:,:]-meanvarhn_i"
   ]
  },
  {
   "cell_type": "code",
   "execution_count": 36,
   "metadata": {},
   "outputs": [
    {
     "data": {
      "text/plain": [
       "(240, 31, 180)"
      ]
     },
     "execution_count": 36,
     "metadata": {},
     "output_type": "execute_result"
    }
   ],
   "source": [
    "varsignal_a.shape"
   ]
  },
  {
   "cell_type": "code",
   "execution_count": 37,
   "metadata": {},
   "outputs": [],
   "source": [
    "# Initialize variable to save signal\n",
    "varsignal_end = np.ma.masked_all((basinN,depthN,latN))\n",
    "# Save signal\n",
    "varsignal_end[1,:,:] = np.ma.average(varsignal_a[-5:,:,:],axis=0)\n",
    "varsignal_end[2,:,:] = np.ma.average(varsignal_p[-5:,:,:],axis=0)\n",
    "varsignal_end[3,:,:] = np.ma.average(varsignal_i[-5:,:,:],axis=0)\n",
    "\n",
    "# Reorganise i,j dims in single dimension data (speeds up loops)\n",
    "varsignal_a = np.reshape(varsignal_a, (timN, depthN*latN))\n",
    "varsignal_p = np.reshape(varsignal_p, (timN, depthN*latN))\n",
    "varsignal_i = np.reshape(varsignal_i, (timN, depthN*latN))\n",
    "    \n",
    "# Initialize ToE for each basin (depth, lat)\n",
    "toe1_a = np.ma.masked_all((depthN,latN))\n",
    "toe1_p = np.ma.masked_all((depthN,latN))\n",
    "toe1_i = np.ma.masked_all((depthN,latN))\n",
    "toe2_a = np.ma.masked_all((depthN,latN))\n",
    "toe2_p = np.ma.masked_all((depthN,latN))\n",
    "toe2_i = np.ma.masked_all((depthN,latN))\n",
    "\n",
    "# Initialize output variable\n",
    "varToE1 = np.ma.masked_all((basinN,depthN,latN)) # (>1std) (basin,depth,latitude)\n",
    "varToE2 = np.ma.masked_all((basinN,depthN,latN)) # (>2std)\n",
    "\n",
    "# Compute ToE as last date when diff hist+RCP - histNat is larger than mult * stddev\n",
    "toe2_a = np.ma.reshape(findToE(varsignal_a, varnoise_a, multStd),(depthN,latN))\n",
    "toe2_p = np.ma.reshape(findToE(varsignal_p, varnoise_p, multStd),(depthN,latN))\n",
    "toe2_i = np.ma.reshape(findToE(varsignal_i, varnoise_i, multStd),(depthN,latN))\n",
    "toe1_a = np.ma.reshape(findToE(varsignal_a, varnoise_a, 1),(depthN,latN))\n",
    "toe1_p = np.ma.reshape(findToE(varsignal_p, varnoise_p, 1),(depthN,latN))\n",
    "toe1_i = np.ma.reshape(findToE(varsignal_i, varnoise_i, 1),(depthN,latN))\n",
    "\n",
    "# Save in output variable\n",
    "varToE1[1,:,:] = toe1_a\n",
    "varToE1[2,:,:] = toe1_p\n",
    "varToE1[3,:,:] = toe1_i\n",
    "varToE2[1,:,:] = toe2_a\n",
    "varToE2[2,:,:] = toe2_p\n",
    "varToE2[3,:,:] = toe2_i\n",
    "\n",
    "# varToE1.fill_value = valmask\n",
    "# varToE2.fill_value = valmask "
   ]
  },
  {
   "cell_type": "code",
   "execution_count": 38,
   "metadata": {},
   "outputs": [
    {
     "data": {
      "text/plain": [
       "masked_array(\n",
       "  data=[[[--, --, --, ..., --, --, --],\n",
       "         [--, --, --, ..., --, --, --],\n",
       "         [--, --, --, ..., --, --, --],\n",
       "         ...,\n",
       "         [--, --, --, ..., --, --, --],\n",
       "         [--, --, --, ..., --, --, --],\n",
       "         [--, --, --, ..., --, --, --]],\n",
       "\n",
       "        [[--, --, --, ..., 149.0, 149.0, 149.0],\n",
       "         [--, --, --, ..., 145.0, 149.0, 149.0],\n",
       "         [--, --, --, ..., 145.0, 149.0, 149.0],\n",
       "         ...,\n",
       "         [--, --, --, ..., 221.0, 218.0, 172.0],\n",
       "         [--, --, --, ..., --, --, --],\n",
       "         [--, --, --, ..., --, --, --]],\n",
       "\n",
       "        [[--, --, --, ..., --, --, --],\n",
       "         [--, --, --, ..., --, --, --],\n",
       "         [--, --, --, ..., --, --, --],\n",
       "         ...,\n",
       "         [--, --, --, ..., --, --, --],\n",
       "         [--, --, --, ..., --, --, --],\n",
       "         [--, --, --, ..., --, --, --]],\n",
       "\n",
       "        [[--, --, --, ..., --, --, --],\n",
       "         [--, --, --, ..., --, --, --],\n",
       "         [--, --, --, ..., --, --, --],\n",
       "         ...,\n",
       "         [--, --, --, ..., --, --, --],\n",
       "         [--, --, --, ..., --, --, --],\n",
       "         [--, --, --, ..., --, --, --]]],\n",
       "  mask=[[[ True,  True,  True, ...,  True,  True,  True],\n",
       "         [ True,  True,  True, ...,  True,  True,  True],\n",
       "         [ True,  True,  True, ...,  True,  True,  True],\n",
       "         ...,\n",
       "         [ True,  True,  True, ...,  True,  True,  True],\n",
       "         [ True,  True,  True, ...,  True,  True,  True],\n",
       "         [ True,  True,  True, ...,  True,  True,  True]],\n",
       "\n",
       "        [[ True,  True,  True, ..., False, False, False],\n",
       "         [ True,  True,  True, ..., False, False, False],\n",
       "         [ True,  True,  True, ..., False, False, False],\n",
       "         ...,\n",
       "         [ True,  True,  True, ..., False, False, False],\n",
       "         [ True,  True,  True, ...,  True,  True,  True],\n",
       "         [ True,  True,  True, ...,  True,  True,  True]],\n",
       "\n",
       "        [[ True,  True,  True, ...,  True,  True,  True],\n",
       "         [ True,  True,  True, ...,  True,  True,  True],\n",
       "         [ True,  True,  True, ...,  True,  True,  True],\n",
       "         ...,\n",
       "         [ True,  True,  True, ...,  True,  True,  True],\n",
       "         [ True,  True,  True, ...,  True,  True,  True],\n",
       "         [ True,  True,  True, ...,  True,  True,  True]],\n",
       "\n",
       "        [[ True,  True,  True, ...,  True,  True,  True],\n",
       "         [ True,  True,  True, ...,  True,  True,  True],\n",
       "         [ True,  True,  True, ...,  True,  True,  True],\n",
       "         ...,\n",
       "         [ True,  True,  True, ...,  True,  True,  True],\n",
       "         [ True,  True,  True, ...,  True,  True,  True],\n",
       "         [ True,  True,  True, ...,  True,  True,  True]]],\n",
       "  fill_value=1e+20)"
      ]
     },
     "execution_count": 38,
     "metadata": {},
     "output_type": "execute_result"
    }
   ],
   "source": [
    "np.ma.masked_where(varsignal_end.mask==True,varToE2)"
   ]
  },
  {
   "cell_type": "code",
   "execution_count": 39,
   "metadata": {},
   "outputs": [
    {
     "data": {
      "text/plain": [
       "<matplotlib.contour.QuadContourSet at 0x2ba2b8447c10>"
      ]
     },
     "execution_count": 39,
     "metadata": {},
     "output_type": "execute_result"
    },
    {
     "data": {
      "image/png": "[encoded data removed]",
      "text/plain": [
       "<Figure size 432x288 with 1 Axes>"
      ]
     },
     "metadata": {
      "needs_background": "light"
     },
     "output_type": "display_data"
    }
   ],
   "source": [
    "import matplotlib.pyplot as plt\n",
    "#plt.contourf(varToE2[3,:,:])\n",
    "plt.contourf(varsignal_end[3,:,:])"
   ]
  },
  {
   "cell_type": "code",
   "execution_count": 22,
   "metadata": {},
   "outputs": [
    {
     "data": {
      "text/plain": [
       "masked_array(data=[--, --, --, ..., 240.0, 240.0, 240.0],\n",
       "             mask=[ True,  True,  True, ..., False, False, False],\n",
       "       fill_value=1e+20)"
      ]
     },
     "execution_count": 22,
     "metadata": {},
     "output_type": "execute_result"
    }
   ],
   "source": [
    "idx=np.argwhere(varsignal_end.mask==True)\n",
    "varToE2[idx[:,0],idx[:,1],idx[:,2]]"
   ]
  },
  {
   "cell_type": "code",
   "execution_count": 23,
   "metadata": {},
   "outputs": [],
   "source": [
    "varToE2[idx[:,0],idx[:,1],idx[:,2]] = np.ma.masked"
   ]
  },
  {
   "cell_type": "code",
   "execution_count": 24,
   "metadata": {},
   "outputs": [
    {
     "data": {
      "text/plain": [
       "masked_array(data=[--, --, --, ..., --, --, --],\n",
       "             mask=[ True,  True,  True, ...,  True,  True,  True],\n",
       "       fill_value=1e+20,\n",
       "            dtype=float64)"
      ]
     },
     "execution_count": 24,
     "metadata": {},
     "output_type": "execute_result"
    }
   ],
   "source": [
    "varToE2[idx[:,0],idx[:,1],idx[:,2]]"
   ]
  },
  {
   "cell_type": "code",
   "execution_count": 27,
   "metadata": {},
   "outputs": [
    {
     "data": {
      "text/plain": [
       "<matplotlib.contour.QuadContourSet at 0x2ba2bc64df50>"
      ]
     },
     "execution_count": 27,
     "metadata": {},
     "output_type": "execute_result"
    },
    {
     "data": {
      "image/png": "[encoded data removed]",
      "text/plain": [
       "<Figure size 432x288 with 1 Axes>"
      ]
     },
     "metadata": {
      "needs_background": "light"
     },
     "output_type": "display_data"
    }
   ],
   "source": [
    "plt.contourf(varToE2[1,:,:])"
   ]
  },
  {
   "cell_type": "code",
   "execution_count": 71,
   "metadata": {},
   "outputs": [],
   "source": [
    "# ---- Map ToE to gamma ----\n",
    "\n",
    "# Density grid\n",
    "targetrho, s_sax, del_s, N_s = rhonGrid(19, 26, 28.5, 0.2, 0.1)\n",
    "levN = len(targetrho)\n",
    "\n",
    "# Define Gamma/depth relationship for mapping\n",
    "gammaz = np.ma.average(fhrcp.variables['density'][tstart:tend+95,:,:,:],axis=0)\n",
    "\n",
    "# Map to gamma\n",
    "varToE1_gamma = maptogamma(varToE1,gammaz,targetrho)\n",
    "varToE2_gamma = maptogamma(varToE2,gammaz,targetrho)\n"
   ]
  },
  {
   "cell_type": "code",
   "execution_count": 44,
   "metadata": {},
   "outputs": [],
   "source": [
    "targetrho, s_sax, del_s, N_s = rhonGrid(19, 26, 28.501, 0.2, 0.1)"
   ]
  },
  {
   "cell_type": "code",
   "execution_count": 45,
   "metadata": {},
   "outputs": [
    {
     "data": {
      "text/plain": [
       "array([19.      , 19.2     , 19.400002, 19.600002, 19.800003, 20.000004,\n",
       "       20.200005, 20.400005, 20.600006, 20.800007, 21.000008, 21.200008,\n",
       "       21.40001 , 21.60001 , 21.80001 , 22.000011, 22.200012, 22.400013,\n",
       "       22.600014, 22.800014, 23.000015, 23.200016, 23.400017, 23.600018,\n",
       "       23.800018, 24.00002 , 24.20002 , 24.40002 , 24.600021, 24.800022,\n",
       "       25.000023, 25.200024, 25.400024, 25.600025, 25.800026, 26.      ,\n",
       "       26.1     , 26.2     , 26.300001, 26.400002, 26.500002, 26.600002,\n",
       "       26.700003, 26.800003, 26.900003, 27.000004, 27.100004, 27.200005,\n",
       "       27.300005, 27.400005, 27.500006, 27.600006, 27.700006, 27.800007,\n",
       "       27.900007, 28.000008, 28.100008, 28.200008, 28.300009, 28.40001 ,\n",
       "       28.50001 ], dtype=float32)"
      ]
     },
     "execution_count": 45,
     "metadata": {},
     "output_type": "execute_result"
    }
   ],
   "source": [
    "targetrho"
   ]
  },
  {
   "cell_type": "code",
   "execution_count": null,
   "metadata": {},
   "outputs": [],
   "source": []
  },
  {
   "cell_type": "code",
   "execution_count": 58,
   "metadata": {},
   "outputs": [
    {
     "name": "stdout",
     "output_type": "stream",
     "text": [
      "[25.20127198287134 25.234900055570083 25.3108492416318 25.438188496992677\n",
      " 25.553835561584727 25.652221168933053 25.732434133106693\n",
      " 25.798017046940377 25.85255540664226 25.89964083747385 25.942858835643307\n",
      " 25.985484358655857 26.030898600941423 26.083867922986403\n",
      " 26.152484718226987 26.249358492416317 26.387137568645397\n",
      " 26.515281773012553 26.73190090546548 27.143695655726987\n",
      " 27.493288686584727 27.71705020920502 27.870188693122383\n",
      " 27.970970760329497 28.00005107544456 28.01414381210774 28.026996436976987\n",
      " 28.058258695083683 28.079391671025103 28.08087898797071 --]\n",
      "[139.0 139.0 139.0 139.0 139.0 139.0 139.0 139.0 139.0 139.0 139.0 140.0\n",
      " 140.0 140.0 140.0 141.0 144.0 182.0 191.0 188.0 189.0 136.0 96.0 96.0\n",
      " 33.0 37.0 126.0 125.0 118.0 121.0 240.0]\n",
      "[139. 139. 139. 139. 139. 139. 139. 139. 139. 139. 139. 140. 140. 140.\n",
      " 140. 141. 144. 182. 191. 188. 189. 136.  96.  96.  33.  37. 126. 125.\n",
      " 118. 121. 240.]\n",
      "[25.20127198287134 25.234900055570083 25.3108492416318 25.438188496992677\n",
      " 25.553835561584727 25.652221168933053 25.732434133106693\n",
      " 25.798017046940377 25.85255540664226 25.89964083747385 25.942858835643307\n",
      " 25.985484358655857 26.030898600941423 26.083867922986403\n",
      " 26.152484718226987 26.249358492416317 26.387137568645397\n",
      " 26.515281773012553 26.73190090546548 27.143695655726987\n",
      " 27.493288686584727 27.71705020920502 27.870188693122383\n",
      " 27.970970760329497 28.00005107544456 28.01414381210774 28.026996436976987\n",
      " 28.058258695083683 28.079391671025103 28.08087898797071 --]\n",
      "[-- -- -- -- -- -- -- -- -- -- -- -- -- -- -- -- -- -- -- -- -- -- -- --\n",
      " -- -- -- -- -- -- 139.80655288261948 139.00500298185995 139.0 139.0 139.0\n",
      " 140.0 140.0 140.49049440996902 142.10269251425365 147.81468968719628\n",
      " 177.46889460903472 185.5199321205755 189.67470563035823\n",
      " 190.50386342043637 189.77534236906632 189.0468213176963\n",
      " 188.31830026632625 188.16106992113538 188.4471179044844 188.7331658878334\n",
      " 187.4090076109903 163.7229861903672 140.03696476974412 114.33159761596613\n",
      " 96.0 33.09412212835309 -- -- -- --]\n"
     ]
    }
   ],
   "source": [
    "from scipy.interpolate import griddata\n",
    "fieldz = varToE1\n",
    "\n",
    "basinN = fieldz.shape[0]\n",
    "depthN = fieldz.shape[1]\n",
    "latN = fieldz.shape[2]\n",
    "\n",
    "fieldgamma = np.ma.masked_all((basinN,len(targetrho),latN))\n",
    "\n",
    "#for ibasin in range(basinN):\n",
    "ibasin=1\n",
    "#for ilat in range(latN):\n",
    "ilat=65\n",
    "\n",
    "gamz = gammaz[ibasin,:,ilat] # Read gamma (function of depth) of water column\n",
    "print(gamz)\n",
    "field_z = fieldz[ibasin,:,ilat] # Read field values of the water column\n",
    "print(field_z)\n",
    "\n",
    "field_sort = np.ma.compressed(field_z) # Remove masked values\n",
    "print(field_sort)\n",
    "gam_sort = gamz[np.where(field_z!=np.ma.masked)]\n",
    "print(gam_sort)\n",
    "\n",
    "if len(gam_sort) > 1:\n",
    "    fieldgamma[ibasin,:,ilat] = griddata(gam_sort,field_sort,targetrho) # Grid field with target pressure grid\n",
    "else :\n",
    "    fieldgamma[ibasin,:,ilat] = np.ma.masked\n",
    "\n",
    "fieldgamma[np.isnan(fieldgamma)] = np.ma.masked\n",
    "\n",
    "# Mask out of bounds data\n",
    "min = gamz[0]\n",
    "idx = np.argmin(np.abs(targetrho-min))\n",
    "fieldgamma[ibasin,0:idx-1,ilat] = np.ma.masked\n",
    "\n",
    "print(fieldgamma[ibasin,:,ilat])\n",
    "#return fieldgamma"
   ]
  },
  {
   "cell_type": "code",
   "execution_count": 59,
   "metadata": {},
   "outputs": [
    {
     "data": {
      "text/plain": [
       "-24.5"
      ]
     },
     "execution_count": 59,
     "metadata": {},
     "output_type": "execute_result"
    }
   ],
   "source": [
    "lat[ilat]"
   ]
  },
  {
   "cell_type": "code",
   "execution_count": 42,
   "metadata": {},
   "outputs": [
    {
     "name": "stdout",
     "output_type": "stream",
     "text": [
      "[22.707828026935147 22.864110715219667 23.112727592180963\n",
      " 23.404570639382847 23.50623937630753 23.605268534257323 23.70322510787134\n",
      " 23.81336623953975 23.942190768828453 24.09986066618724 24.294999509675733\n",
      " 24.53329710381799 24.813394841788703 25.127351513467573\n",
      " 25.461260296809623 25.809523323091003 26.160969371077407\n",
      " 26.501971512160043 26.79285025496862 27.065595171940377\n",
      " 27.313842262683053 27.551990716527197 27.77916203582636\n",
      " 27.937673656511507 27.976699382191423 27.988800176516737\n",
      " 28.000192043671547 28.02245276542887 28.035689477641213 28.0497699561977\n",
      " --]\n",
      "[235.0 240.0 240.0 240.0 240.0 240.0 240.0 240.0 240.0 234.0 234.0 229.0\n",
      " 214.0 237.0 236.0 239.0 237.0 199.0 147.0 111.0 157.0 192.0 220.0 180.0\n",
      " 145.0 145.0 145.0 145.0 240.0 186.0 240.0]\n",
      "[-- -- -- -- -- -- -- -- -- -- -- -- -- -- -- -- -- -- 235.02373945537573\n",
      " 237.94934998643717 240.0 240.0 240.0 240.0 240.0 237.79939079203115 234.0\n",
      " 231.796429920589 225.4267334518599 214.71614554841358 227.67209380876926\n",
      " 236.78235931104265 236.18339105109553 237.19534549797612\n",
      " 238.9181878428123 237.91604029693704 237.34696073526504 232.6504880407823\n",
      " 221.50682048554333 210.36315293030432 199.21948537506535\n",
      " 181.47517045414662 163.5982373162451 146.05589190343153 132.8566954788729\n",
      " 119.65749905431423 117.37596641994487 135.90596221504413\n",
      " 154.4359580101434 169.66314216019552 184.35991341755175\n",
      " 197.91813632030505 210.2436829156699 214.73986057586973\n",
      " 189.50502137922598 145.0 -- -- -- --]\n"
     ]
    }
   ],
   "source": [
    "from scipy.interpolate import interp1d\n",
    "\n",
    "basinN = fieldz.shape[0]\n",
    "depthN = fieldz.shape[1]\n",
    "latN = fieldz.shape[2]\n",
    "\n",
    "fieldgamma2 = np.ma.masked_all((basinN,len(targetrho),latN))\n",
    "\n",
    "#for ibasin in range(basinN):\n",
    "ibasin=2\n",
    "#for ilat in range(latN):\n",
    "ilat=90\n",
    "\n",
    "gamz = gammaz[ibasin,:,ilat] # Read gamma (function of depth) of water column\n",
    "print(gamz)\n",
    "field_z = fieldz[ibasin,:,ilat] # Read field values of the water column\n",
    "print(field_z)\n",
    "\n",
    "f = interp1d(gamz,field_z,bounds_error = False,kind='linear')\n",
    "\n",
    "fieldgamma2[ibasin,:,ilat] = f(targetrho) # Interpolate field with target pressure grid\n",
    "\n",
    "fieldgamma2[np.isnan(fieldgamma2)] = np.ma.masked\n",
    "\n",
    "# Mask out of bounds data\n",
    "min = gamz[0]\n",
    "idx = np.argmin(np.abs(targetrho-min))\n",
    "fieldgamma2[ibasin,0:idx-1,ilat] = np.ma.masked\n",
    "\n",
    "print(fieldgamma2[ibasin,:,ilat])"
   ]
  },
  {
   "cell_type": "code",
   "execution_count": 40,
   "metadata": {},
   "outputs": [],
   "source": [
    "min = gamz[0]\n",
    "idx = np.argmin(np.abs(targetrho-min))\n",
    "fieldgamma2[ibasin,0:idx-1,ilat] = np.ma.masked"
   ]
  },
  {
   "cell_type": "code",
   "execution_count": 41,
   "metadata": {},
   "outputs": [
    {
     "data": {
      "text/plain": [
       "masked_array(data=[--, --, --, --, --, --, --, --, --, --, --, --, --, --,\n",
       "                   --, --, --, --, 235.02373945537573, 237.94934998643717,\n",
       "                   240.0, 240.0, 240.0, 240.0, 240.0, 237.79939079203115,\n",
       "                   234.0, 231.796429920589, 225.4267334518599,\n",
       "                   214.71614554841358, 227.67209380876926,\n",
       "                   236.78235931104265, 236.18339105109553,\n",
       "                   237.19534549797612, 238.9181878428123,\n",
       "                   237.91604029693704, 237.34696073526504,\n",
       "                   232.6504880407823, 221.50682048554333,\n",
       "                   210.36315293030432, 199.21948537506535,\n",
       "                   181.47517045414662, 163.5982373162451,\n",
       "                   146.05589190343153, 132.8566954788729,\n",
       "                   119.65749905431423, 117.37596641994487,\n",
       "                   135.90596221504413, 154.4359580101434,\n",
       "                   169.66314216019552, 184.35991341755175,\n",
       "                   197.91813632030505, 210.2436829156699,\n",
       "                   214.73986057586973, 189.50502137922598, 145.0, nan,\n",
       "                   nan, nan, nan],\n",
       "             mask=[ True,  True,  True,  True,  True,  True,  True,  True,\n",
       "                    True,  True,  True,  True,  True,  True,  True,  True,\n",
       "                    True,  True, False, False, False, False, False, False,\n",
       "                   False, False, False, False, False, False, False, False,\n",
       "                   False, False, False, False, False, False, False, False,\n",
       "                   False, False, False, False, False, False, False, False,\n",
       "                   False, False, False, False, False, False, False, False,\n",
       "                   False, False, False, False],\n",
       "       fill_value=1e+20)"
      ]
     },
     "execution_count": 41,
     "metadata": {},
     "output_type": "execute_result"
    }
   ],
   "source": [
    "fieldgamma2[ibasin,:,ilat]"
   ]
  },
  {
   "cell_type": "code",
   "execution_count": 39,
   "metadata": {},
   "outputs": [
    {
     "data": {
      "text/plain": [
       "array([19.      , 19.2     , 19.400002, 19.600002, 19.800003, 20.000004,\n",
       "       20.200005, 20.400005, 20.600006, 20.800007, 21.000008, 21.200008,\n",
       "       21.40001 , 21.60001 , 21.80001 , 22.000011, 22.200012, 22.400013,\n",
       "       22.600014, 22.800014, 23.000015, 23.200016, 23.400017, 23.600018,\n",
       "       23.800018, 24.00002 , 24.20002 , 24.40002 , 24.600021, 24.800022,\n",
       "       25.000023, 25.200024, 25.400024, 25.600025, 25.800026, 26.      ,\n",
       "       26.1     , 26.2     , 26.300001, 26.400002, 26.500002, 26.600002,\n",
       "       26.700003, 26.800003, 26.900003, 27.000004, 27.100004, 27.200005,\n",
       "       27.300005, 27.400005, 27.500006, 27.600006, 27.700006, 27.800007,\n",
       "       27.900007, 28.000008, 28.100008, 28.200008, 28.300009, 28.40001 ],\n",
       "      dtype=float32)"
      ]
     },
     "execution_count": 39,
     "metadata": {},
     "output_type": "execute_result"
    }
   ],
   "source": [
    "targetrho"
   ]
  },
  {
   "cell_type": "code",
   "execution_count": null,
   "metadata": {},
   "outputs": [],
   "source": []
  }
 ],
 "metadata": {
  "kernelspec": {
   "display_name": "Python [conda env:cdat81] *",
   "language": "python",
   "name": "conda-env-cdat81-py"
  },
  "language_info": {
   "codemirror_mode": {
    "name": "ipython",
    "version": 2
   },
   "file_extension": ".py",
   "mimetype": "text/x-python",
   "name": "python",
   "nbconvert_exporter": "python",
   "pygments_lexer": "ipython2",
   "version": "2.7.15"
  }
 },
 "nbformat": 4,
 "nbformat_minor": 2
}
