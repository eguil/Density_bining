{
 "cells": [
  {
   "cell_type": "markdown",
   "metadata": {
    "collapsed": true
   },
   "source": [
    "# Density Binary QuickStart\n",
    "\n",
    "## How to prepare environment to use Density_binary program\n",
    "\n",
    "** Libraries **\n",
    "- *string*: default python module\n",
    "- *time*: default python module\n",
    "- *numpy*: scientific package to Python\n",
    "- *scipy*: scientific package to Python\n",
    "- *CDAT* (Climate Data Analysis Tools): from PCMDI to analyse climate data\n",
    "- *ESMF*: PCMDI lib CDMS"
   ]
  },
  {
   "cell_type": "code",
   "execution_count": 1,
   "metadata": {
    "collapsed": true
   },
   "outputs": [],
   "source": [
    "import numpy as npy\n",
    "from string import replace\n",
    "import time as timc\n",
    "from scipy.interpolate import interp1d\n",
    "from scipy.interpolate._fitpack import _bspleval\n",
    "import gc,os,resource,timeit ; #argparse,sys"
   ]
  },
  {
   "cell_type": "markdown",
   "metadata": {},
   "source": [
    "##### Install CDMS lib\n",
    "\n",
    "`conda install -c conda-forge -c uvcdat uvcdat`"
   ]
  },
  {
   "cell_type": "code",
   "execution_count": 2,
   "metadata": {},
   "outputs": [],
   "source": [
    "import cdms2 as cdm\n",
    "import cdutil as cdu\n",
    "import MV2 as mv\n",
    "from cdms2 import CdmsRegrid, mvCdmsRegrid"
   ]
  },
  {
   "cell_type": "markdown",
   "metadata": {},
   "source": [
    "##### Install *durolib* module\n",
    "\n",
    "- First install *seawater* package: `conda install seawater -c conda-forge`\n",
    "- Get *durolib* from https://github.com/durack1/durolib. Extract and build it *./setup.py*.\n",
    "Copy builded *durolib* directory to *anaconda/lib/python2.7/site-packages/*"
   ]
  },
  {
   "cell_type": "code",
   "execution_count": 3,
   "metadata": {},
   "outputs": [],
   "source": [
    "from durolib import fixVarUnits,getGitInfo,globalAttWrite"
   ]
  },
  {
   "cell_type": "markdown",
   "metadata": {},
   "source": [
    "##### Install ESMP module\n",
    "\n",
    "`conda install esmp -c conda-forge`"
   ]
  },
  {
   "cell_type": "code",
   "execution_count": 4,
   "metadata": {},
   "outputs": [],
   "source": [
    "import ESMP"
   ]
  },
  {
   "cell_type": "markdown",
   "metadata": {
    "collapsed": true
   },
   "source": [
    "## Density Bin usage\n",
    "\n",
    "**File to start**: `drive_IPSL.py` or `drive_density.py`\n",
    "\n",
    "Some examples avalaible in Eric Guilyardi's home on ciclad: `/home/ericglod/Density_bining/`.\n",
    "\n",
    "Program needs to get a WOD13 netcdf file as input: `cp /home/ericglod/Density_bining/140807_WOD13_masks.nc .`"
   ]
  },
  {
   "cell_type": "code",
   "execution_count": 5,
   "metadata": {},
   "outputs": [],
   "source": [
    "import os\n",
    "os.chdir(\"/home/nillod/Dev/Density_bin/Density_bining/\")\n",
    "#os.chdir('/home/ericglod/Density_bining/')\n",
    "\n",
    "from binDensity import densityBin\n",
    "\n",
    "# IPSL DIR= '/prodigfs/project/CMIP5/main/IPSL/IPSL-CM5A-LR/historical/mon/ocean/Omon/r1i1p1/latest/so/'\n",
    "#modelSo = '/prodigfs/project/CMIP5/main/IPSL/IPSL-CM5A-LR/historical/mon/ocean/Omon/r1i1p1/latest/so/so_Omon_IPSL-CM5A-LR_historical_r1i1p1_185001-189912.nc'\n",
    "#modelThetao = '/prodigfs/project/CMIP5/main/IPSL/IPSL-CM5A-LR/historical/mon/ocean/Omon/r1i1p1/latest/thetao/thetao_Omon_IPSL-CM5A-LR_historical_r1i1p1_185001-189912.nc'\n",
    "#modelVo = '/prodigfs/project/CMIP5/main/IPSL/IPSL-CM5A-LR/historical/mon/ocean/Omon/r1i1p1/latest/vo/vo_Omon_IPSL-CM5A-LR_historical_r1i1p1_185001-189912.nc'\n",
    "\n",
    "modelSo = '/data/nillod/Density_bining/so_Omon_IPSL-CM5A-LR_historical_r1i1p1_185001-185412.nc'\n",
    "modelThetao = '/data/nillod/Density_bining/thetao_Omon_IPSL-CM5A-LR_historical_r1i1p1_185001-185412.nc'\n",
    "modelVo = '/data/nillod/Density_bining/vo_Omon_IPSL-CM5A-LR_historical_r1i1p1_185001-185412.nc'\n",
    "\n",
    "modelAreacello = '/prodigfs/project/CMIP5/main/IPSL/IPSL-CM5A-LR/piControl/fx/ocean/fx/r0i0p0/latest/areacello/areacello_fx_IPSL-CM5A-LR_piControl_r0i0p0.nc'\n",
    "\n",
    "outfileDensity = '/data/nillod/Density_bining/out/cmip5.IPSL-VLR0.historical.rip.mon.ocean.Omon.density.nc'"
   ]
  },
  {
   "cell_type": "code",
   "execution_count": 6,
   "metadata": {},
   "outputs": [
    {
     "name": "stderr",
     "output_type": "stream",
     "text": [
      "binDensity.py:203: FutureWarning: comparison to `None` will result in an elementwise object comparison in the future.\n",
      "  if valmask == None:\n"
     ]
    },
    {
     "name": "stdout",
     "output_type": "stream",
     "text": [
      "grdsize: 840658\n",
      " ==> model: nc  (grid size: 840658 )\n",
      " ==> time interval:  0 11\n",
      " ==> size of time chunk, number of time chunks (memory optimization) : 12 1\n",
      " \n",
      " --> time chunk (bounds) =  1 / 1  ( 0 11 ) nc\n",
      "*THETAO mean: +280.82; min: +271.13; max: +305.58\n",
      "*THETAO mean: +07.67; min: -02.02; max: +32.43\n",
      "Sizes: x1_content= (31, 27118) ,  vo.data[t]= (31, 27118) , x3_content= (31, 27118) , lev_thickt= (31, 27118)\n",
      "TYPE************* x3_content= <type 'numpy.ndarray'> , vo.data[t]= <type 'numpy.ndarray'> , lev_thickt= <class 'cdms2.tvariable.TransientVariable'>\n",
      "  Total volume in z coordinates source grid (ref = 1.33 e+18) :  1.3761059837e+18\n",
      "  Mean Temp./Salinity in z coordinates source grid            :  2.952495425 34.7336599091\n",
      "  Mean Meridional TRANSPORT in z coordinates source grid       :  2.218569658e+21\n",
      "Sizes: x1_content= (31, 27118) ,  vo.data[t]= (31, 27118) , x3_content= (31, 27118) , lev_thickt= (31, 27118)\n",
      "TYPE************* x3_content= <type 'numpy.ndarray'> , vo.data[t]= <type 'numpy.ndarray'> , lev_thickt= <class 'cdms2.tvariable.TransientVariable'>\n",
      "Sizes: x1_content= (31, 27118) ,  vo.data[t]= (31, 27118) , x3_content= (31, 27118) , lev_thickt= (31, 27118)\n",
      "TYPE************* x3_content= <type 'numpy.ndarray'> , vo.data[t]= <type 'numpy.ndarray'> , lev_thickt= <class 'cdms2.tvariable.TransientVariable'>\n",
      "Sizes: x1_content= (31, 27118) ,  vo.data[t]= (31, 27118) , x3_content= (31, 27118) , lev_thickt= (31, 27118)\n",
      "TYPE************* x3_content= <type 'numpy.ndarray'> , vo.data[t]= <type 'numpy.ndarray'> , lev_thickt= <class 'cdms2.tvariable.TransientVariable'>\n",
      "Sizes: x1_content= (31, 27118) ,  vo.data[t]= (31, 27118) , x3_content= (31, 27118) , lev_thickt= (31, 27118)\n",
      "TYPE************* x3_content= <type 'numpy.ndarray'> , vo.data[t]= <type 'numpy.ndarray'> , lev_thickt= <class 'cdms2.tvariable.TransientVariable'>\n",
      "Sizes: x1_content= (31, 27118) ,  vo.data[t]= (31, 27118) , x3_content= (31, 27118) , lev_thickt= (31, 27118)\n",
      "TYPE************* x3_content= <type 'numpy.ndarray'> , vo.data[t]= <type 'numpy.ndarray'> , lev_thickt= <class 'cdms2.tvariable.TransientVariable'>\n",
      "Sizes: x1_content= (31, 27118) ,  vo.data[t]= (31, 27118) , x3_content= (31, 27118) , lev_thickt= (31, 27118)\n",
      "TYPE************* x3_content= <type 'numpy.ndarray'> , vo.data[t]= <type 'numpy.ndarray'> , lev_thickt= <class 'cdms2.tvariable.TransientVariable'>\n",
      "Sizes: x1_content= (31, 27118) ,  vo.data[t]= (31, 27118) , x3_content= (31, 27118) , lev_thickt= (31, 27118)\n",
      "TYPE************* x3_content= <type 'numpy.ndarray'> , vo.data[t]= <type 'numpy.ndarray'> , lev_thickt= <class 'cdms2.tvariable.TransientVariable'>\n",
      "Sizes: x1_content= (31, 27118) ,  vo.data[t]= (31, 27118) , x3_content= (31, 27118) , lev_thickt= (31, 27118)\n",
      "TYPE************* x3_content= <type 'numpy.ndarray'> , vo.data[t]= <type 'numpy.ndarray'> , lev_thickt= <class 'cdms2.tvariable.TransientVariable'>\n",
      "Sizes: x1_content= (31, 27118) ,  vo.data[t]= (31, 27118) , x3_content= (31, 27118) , lev_thickt= (31, 27118)\n",
      "TYPE************* x3_content= <type 'numpy.ndarray'> , vo.data[t]= <type 'numpy.ndarray'> , lev_thickt= <class 'cdms2.tvariable.TransientVariable'>\n",
      "Sizes: x1_content= (31, 27118) ,  vo.data[t]= (31, 27118) , x3_content= (31, 27118) , lev_thickt= (31, 27118)\n",
      "TYPE************* x3_content= <type 'numpy.ndarray'> , vo.data[t]= <type 'numpy.ndarray'> , lev_thickt= <class 'cdms2.tvariable.TransientVariable'>\n",
      "Sizes: x1_content= (31, 27118) ,  vo.data[t]= (31, 27118) , x3_content= (31, 27118) , lev_thickt= (31, 27118)\n",
      "TYPE************* x3_content= <type 'numpy.ndarray'> , vo.data[t]= <type 'numpy.ndarray'> , lev_thickt= <class 'cdms2.tvariable.TransientVariable'>\n",
      " Bining CPU analysis tc/tcdel =  0 12\n",
      "    average cpu1  =  0.113333333333\n",
      "    average cpu2  =  0.558333333333\n",
      "    average cpu3  =  0.0858333333333\n",
      "    average cpu4  =  14.8258333333\n",
      "    average cpu40 =  0.0291666666667\n",
      "    average cpu5  =  0.333333333333\n",
      "    CPU read T/S  =  4.42\n",
      "    CPU comp. rho =  5.84\n",
      "4500.02148438 2999.18908784 155643.450981 2.48863847611e+25\n",
      "4245.58512974 2197.13795059 146972.19788 2.75891167402e+25\n",
      "  Total volume in rho coordinates source grid (ref = 1.33 e+18) :  1.22426753745e+18\n",
      "  Mean Temp./Salinity in rho coordinates source grid            :  2.88316844104 34.8605953072\n",
      "  Mean Meridional velocity in z coordinates source grid       :  4.12165746841e+21\n"
     ]
    },
    {
     "name": "stderr",
     "output_type": "stream",
     "text": [
      "/home/nillod/anaconda2/lib/python2.7/site-packages/cdms2/axis.py:1624: UserWarning: \n",
      "Your first bounds[0,0] -180.000000000000000 will be corrected to -180.000000000000000\n",
      "Your bounds bounds[-1,1] 180.000000000000000 will be corrected to 180.000000000000000\n",
      "  warnings.warn(msg, UserWarning)\n"
     ]
    },
    {
     "name": "stdout",
     "output_type": "stream",
     "text": [
      " Integral persistent values: 1.21048239768e+18 5.044e+17 1.14575157216e+17\n",
      "   % 41.6693007233 22.71515847\n",
      "  area global/atl/pac/ind  3.44248e+14 9.7772e+13 1.73523e+14 7.29536e+13\n",
      "   T , S glob  1.31808326928 14.130960023\n",
      "   T , S atl   1.13540422578 12.6724599944\n",
      "   T , S pac   1.46563296187 16.0516496916\n",
      "   T , S ind   1.21195669037 11.5172068155\n",
      " Persistence CPU analysis t/nyrtc =  0 1\n",
      "    cpu1 =  1.92\n",
      "    cpu2 =  0.49\n",
      "    cpu3 =  0.05\n",
      "    cpu4 =  2.72\n",
      "    cpu5 =  1.69\n",
      "    cpu6 =  0.5\n",
      "    cpu7 =  1.18\n",
      "   CPU of chunk inits         = 11.52\n",
      "   CPU of density bining      = 191.35\n",
      "   CPU of masking and var def = 8.06\n",
      "   CPU of annual mean compute = 3.16\n",
      "   CPU of interpolation       = 13.66\n",
      "   CPU of zonal mean          = 6.6\n",
      "   CPU of persistence compute = 12.82\n",
      "   CPU of chunk               = 247.72\n",
      "   Max memory use 3.103144 GB\n",
      "   CPU of inits       = 17.19\n",
      "     CPU inits detail = 0.26 0.14 1.29 0.06 15.43 0.01\n",
      " [ Time stamp 22/09/2017 10:13:31 ]\n",
      " Max memory use 3.103144 GB\n",
      " Ratio to grid*nyears 3.69132750774 kB/unit(size*nyears)\n",
      " CPU use, elapsed 264.91 267.01094985\n",
      " Ratio to grid*nyears 26.2601834912 1.e-6 sec/unit(size*nyears)\n",
      " Wrote file:  /data/nillod/Density_bining/out/cmip5.IPSL-VLR0.historical.rip.mon.ocean.Omon.density.nc\n"
     ]
    }
   ],
   "source": [
    "#ok = densityBin()\n",
    "#densityBin(fTemp, fSali, fcell, outfileDensity, timeint='1,12')\n",
    "\n",
    "#densityBin(modelThetao,modelSo,modelAreacello,outfileDensity,timeint='1,24')\n",
    "lt,tk = densityBin(modelThetao,modelSo,modelVo,modelAreacello,outfileDensity,timeint='1,12')"
   ]
  },
  {
   "cell_type": "code",
   "execution_count": null,
   "metadata": {
    "collapsed": true
   },
   "outputs": [],
   "source": []
  },
  {
   "cell_type": "markdown",
   "metadata": {
    "collapsed": true
   },
   "source": [
    "## Reference values\n",
    "\n",
    "**Input files**\n",
    "\n",
    "- salinity: */data/nillod/Density_bining/so_Omon_IPSL-CM5A-LR_historical_r1i1p1_185001-185412.nc*\n",
    "- potential temp: */data/nillod/Density_bining/thetao_Omon_IPSL-CM5A-LR_historical_r1i1p1_185001-185412.nc*\n",
    "- Y velocity: */data/nillod/Density_bining/vo_Omon_IPSL-CM5A-LR_historical_r1i1p1_185001-185412.nc*\n",
    "- cell area: */prodigfs/project/CMIP5/main/IPSL/IPSL-CM5A-LR/piControl/fx/ocean/fx/r0i0p0/latest/areacello/areacello_fx_IPSL-CM5A-LR_piControl_r0i0p0.nc*\n",
    "\n",
    "### Original code"
   ]
  },
  {
   "cell_type": "markdown",
   "metadata": {},
   "source": [
    "  Total volume in z coordinates source grid (ref = 1.33 e+18) :  1.3761059837e+18\n",
    "  Mean Temp./Salinity in z coordinates source grid            :  2.952495425 34.7336599091"
   ]
  },
  {
   "cell_type": "markdown",
   "metadata": {},
   "source": [
    "## TESTS"
   ]
  },
  {
   "cell_type": "code",
   "execution_count": 9,
   "metadata": {},
   "outputs": [
    {
     "data": {
      "text/plain": [
       "array([  10.  ,   10.  ,   10.  ,   10.01,   10.01,   10.02,   10.05,\n",
       "         10.09,   10.17,   10.34,   10.66,   11.29,   12.51,   14.87,\n",
       "         19.39,   27.95,   43.76,   71.62,  116.98,  182.17,  260.98,\n",
       "        338.71,  401.39,  444.16,  470.09,  484.68,  492.56,  496.7 ,\n",
       "        498.86,  499.98,  249.99])"
      ]
     },
     "execution_count": 9,
     "metadata": {},
     "output_type": "execute_result"
    }
   ],
   "source": [
    "type(lev_thickttk)\n",
    "lt"
   ]
  },
  {
   "cell_type": "code",
   "execution_count": 14,
   "metadata": {},
   "outputs": [
    {
     "name": "stdout",
     "output_type": "stream",
     "text": [
      "(31, 27118) 840658 27118\n"
     ]
    }
   ],
   "source": [
    "lonN = 182\n",
    "latN = 149\n",
    "depthN = 31\n",
    "grdsize = lonN * latN * depthN\n",
    "print tk.shape, grdsize, lonN*latN\n",
    "#tk.reshape"
   ]
  },
  {
   "cell_type": "code",
   "execution_count": 37,
   "metadata": {},
   "outputs": [
    {
     "data": {
      "text/plain": [
       "array([[  0.,   0.],\n",
       "       [  0.,   0.],\n",
       "       [  5.,  15.],\n",
       "       [  0.,   0.],\n",
       "       [ 11.,   0.]])"
      ]
     },
     "execution_count": 37,
     "metadata": {},
     "output_type": "execute_result"
    }
   ],
   "source": [
    "#tk.reshape(depthN,lonN,latN)\n",
    "#M[0][4]=11\n",
    "M.transpose()"
   ]
  },
  {
   "cell_type": "code",
   "execution_count": 28,
   "metadata": {},
   "outputs": [
    {
     "ename": "ValueError",
     "evalue": "bad axis2 argument to swapaxes",
     "output_type": "error",
     "traceback": [
      "\u001b[0;31m---------------------------------------------------------------------------\u001b[0m",
      "\u001b[0;31mValueError\u001b[0m                                Traceback (most recent call last)",
      "\u001b[0;32m<ipython-input-28-4769a7bc798b>\u001b[0m in \u001b[0;36m<module>\u001b[0;34m()\u001b[0m\n\u001b[1;32m     40\u001b[0m \u001b[0mlev_thick\u001b[0m     \u001b[0;34m=\u001b[0m \u001b[0mnpy\u001b[0m\u001b[0;34m.\u001b[0m\u001b[0mroll\u001b[0m\u001b[0;34m(\u001b[0m\u001b[0mz_zw\u001b[0m\u001b[0;34m,\u001b[0m\u001b[0;34m-\u001b[0m\u001b[0;36m1\u001b[0m\u001b[0;34m)\u001b[0m\u001b[0;34m-\u001b[0m\u001b[0mz_zw\u001b[0m\u001b[0;34m\u001b[0m\u001b[0m\n\u001b[1;32m     41\u001b[0m \u001b[0mlev_thick\u001b[0m\u001b[0;34m[\u001b[0m\u001b[0;34m-\u001b[0m\u001b[0;36m1\u001b[0m\u001b[0;34m]\u001b[0m \u001b[0;34m=\u001b[0m \u001b[0mlev_thick\u001b[0m\u001b[0;34m[\u001b[0m\u001b[0;34m-\u001b[0m\u001b[0;36m2\u001b[0m\u001b[0;34m]\u001b[0m\u001b[0;34m*\u001b[0m\u001b[0;36m.5\u001b[0m\u001b[0;34m\u001b[0m\u001b[0m\n\u001b[0;32m---> 42\u001b[0;31m \u001b[0mlev_thickt\u001b[0m    \u001b[0;34m=\u001b[0m \u001b[0mnpy\u001b[0m\u001b[0;34m.\u001b[0m\u001b[0mswapaxes\u001b[0m\u001b[0;34m(\u001b[0m\u001b[0;34m(\u001b[0m\u001b[0mnpy\u001b[0m\u001b[0;34m.\u001b[0m\u001b[0mtile\u001b[0m\u001b[0;34m(\u001b[0m\u001b[0mlev_thick\u001b[0m\u001b[0;34m,\u001b[0m\u001b[0mlonN\u001b[0m\u001b[0;34m*\u001b[0m\u001b[0mlatN\u001b[0m\u001b[0;34m)\u001b[0m\u001b[0;34m,\u001b[0m\u001b[0;34m(\u001b[0m\u001b[0mlonN\u001b[0m\u001b[0;34m*\u001b[0m\u001b[0mlatN\u001b[0m\u001b[0;34m,\u001b[0m\u001b[0mdepthN\u001b[0m\u001b[0;34m)\u001b[0m\u001b[0;34m)\u001b[0m\u001b[0;34m,\u001b[0m\u001b[0;36m0\u001b[0m\u001b[0;34m,\u001b[0m\u001b[0;36m1\u001b[0m\u001b[0;34m)\u001b[0m\u001b[0;34m\u001b[0m\u001b[0m\n\u001b[0m\u001b[1;32m     43\u001b[0m \u001b[0;32mprint\u001b[0m \u001b[0;34m'End of tests'\u001b[0m\u001b[0;34m\u001b[0m\u001b[0m\n",
      "\u001b[0;32m/home/nillod/anaconda2/lib/python2.7/site-packages/numpy/core/fromnumeric.pyc\u001b[0m in \u001b[0;36mswapaxes\u001b[0;34m(a, axis1, axis2)\u001b[0m\n\u001b[1;32m    500\u001b[0m         \u001b[0mswapaxes\u001b[0m \u001b[0;34m=\u001b[0m \u001b[0ma\u001b[0m\u001b[0;34m.\u001b[0m\u001b[0mswapaxes\u001b[0m\u001b[0;34m\u001b[0m\u001b[0m\n\u001b[1;32m    501\u001b[0m     \u001b[0;32mexcept\u001b[0m \u001b[0mAttributeError\u001b[0m\u001b[0;34m:\u001b[0m\u001b[0;34m\u001b[0m\u001b[0m\n\u001b[0;32m--> 502\u001b[0;31m         \u001b[0;32mreturn\u001b[0m \u001b[0m_wrapit\u001b[0m\u001b[0;34m(\u001b[0m\u001b[0ma\u001b[0m\u001b[0;34m,\u001b[0m \u001b[0;34m'swapaxes'\u001b[0m\u001b[0;34m,\u001b[0m \u001b[0maxis1\u001b[0m\u001b[0;34m,\u001b[0m \u001b[0maxis2\u001b[0m\u001b[0;34m)\u001b[0m\u001b[0;34m\u001b[0m\u001b[0m\n\u001b[0m\u001b[1;32m    503\u001b[0m     \u001b[0;32mreturn\u001b[0m \u001b[0mswapaxes\u001b[0m\u001b[0;34m(\u001b[0m\u001b[0maxis1\u001b[0m\u001b[0;34m,\u001b[0m \u001b[0maxis2\u001b[0m\u001b[0;34m)\u001b[0m\u001b[0;34m\u001b[0m\u001b[0m\n\u001b[1;32m    504\u001b[0m \u001b[0;34m\u001b[0m\u001b[0m\n",
      "\u001b[0;32m/home/nillod/anaconda2/lib/python2.7/site-packages/numpy/core/fromnumeric.pyc\u001b[0m in \u001b[0;36m_wrapit\u001b[0;34m(obj, method, *args, **kwds)\u001b[0m\n\u001b[1;32m     45\u001b[0m     \u001b[0;32mexcept\u001b[0m \u001b[0mAttributeError\u001b[0m\u001b[0;34m:\u001b[0m\u001b[0;34m\u001b[0m\u001b[0m\n\u001b[1;32m     46\u001b[0m         \u001b[0mwrap\u001b[0m \u001b[0;34m=\u001b[0m \u001b[0mNone\u001b[0m\u001b[0;34m\u001b[0m\u001b[0m\n\u001b[0;32m---> 47\u001b[0;31m     \u001b[0mresult\u001b[0m \u001b[0;34m=\u001b[0m \u001b[0mgetattr\u001b[0m\u001b[0;34m(\u001b[0m\u001b[0masarray\u001b[0m\u001b[0;34m(\u001b[0m\u001b[0mobj\u001b[0m\u001b[0;34m)\u001b[0m\u001b[0;34m,\u001b[0m \u001b[0mmethod\u001b[0m\u001b[0;34m)\u001b[0m\u001b[0;34m(\u001b[0m\u001b[0;34m*\u001b[0m\u001b[0margs\u001b[0m\u001b[0;34m,\u001b[0m \u001b[0;34m**\u001b[0m\u001b[0mkwds\u001b[0m\u001b[0;34m)\u001b[0m\u001b[0;34m\u001b[0m\u001b[0m\n\u001b[0m\u001b[1;32m     48\u001b[0m     \u001b[0;32mif\u001b[0m \u001b[0mwrap\u001b[0m\u001b[0;34m:\u001b[0m\u001b[0;34m\u001b[0m\u001b[0m\n\u001b[1;32m     49\u001b[0m         \u001b[0;32mif\u001b[0m \u001b[0;32mnot\u001b[0m \u001b[0misinstance\u001b[0m\u001b[0;34m(\u001b[0m\u001b[0mresult\u001b[0m\u001b[0;34m,\u001b[0m \u001b[0mmu\u001b[0m\u001b[0;34m.\u001b[0m\u001b[0mndarray\u001b[0m\u001b[0;34m)\u001b[0m\u001b[0;34m:\u001b[0m\u001b[0;34m\u001b[0m\u001b[0m\n",
      "\u001b[0;31mValueError\u001b[0m: bad axis2 argument to swapaxes"
     ]
    }
   ],
   "source": [
    "# Test Density binning variables\n",
    "import ESMP\n",
    "import gc,os,resource,timeit ; #argparse,sys\n",
    "import cdms2 as cdm\n",
    "from cdms2 import CdmsRegrid\n",
    "import cdutil as cdu\n",
    "from durolib import fixVarUnits,getGitInfo,globalAttWrite\n",
    "import MV2 as mv\n",
    "import numpy as npy\n",
    "from string import replace\n",
    "import time as timc\n",
    "from libDensity import maskVal,computeArea,eosNeutral,rhonGrid\n",
    "\n",
    "# Turn off numpy warnings\n",
    "npy.seterr(all='ignore') ; # Cautious use of this turning all error reporting off - shouldn't be an issue as using masked arrays\n",
    "\n",
    "# temporary fix to read grid from CMIP5 IPSL file\n",
    "GRIDFILE_THETAO = '/prodigfs/project/CMIP5/main/IPSL/IPSL-CM5B-LR/piControl/mon/ocean/Omon/r1i1p1/latest/thetao/thetao_Omon_IPSL-CM5B-LR_piControl_r1i1p1_183001-187912.nc'\n",
    "GRIDFILE_SO = '/prodigfs/project/CMIP5/main/IPSL/IPSL-CM5B-LR/piControl/mon/ocean/Omon/r1i1p1/latest/so/so_Omon_IPSL-CM5B-LR_piControl_r1i1p1_183001-187912.nc'\n",
    "GRIDFILE_V = '/prodigfs/project/CMIP5/main/IPSL/IPSL-CM5B-LR/piControl/mon/ocean/Omon/r1i1p1/latest/vo/vo_Omon_IPSL-CM5B-LR_piControl_r1i1p1_183001-187912.nc'\n",
    "\n",
    "MAX_DEPTH_OCE = 6000. # Ocean max depth\n",
    "TARGET_GRID_FILENAME = '140807_WOD13_masks.nc' # Target horizonal grid file name for interp\n",
    "TARGET_GRID_VARNAME = 'basinmask3' # Target horizonal grid var name to use for interp\n",
    "\n",
    "# temporary fix to read grid from CMIP5 IPSL file\n",
    "ft2 = cdm.open(GRIDFILE_THETAO)\n",
    "fs2 = cdm.open(GRIDFILE_SO)\n",
    "fv2 = cdm.open(GRIDFILE_V)\n",
    "\n",
    "lonN = 182\n",
    "latN = 149\n",
    "depthN = 31\n",
    "\n",
    "# Test lev_thick\n",
    "bounds  = ft2('lev_bnds')\n",
    "z_zw = bounds.data[:,0]\n",
    "\n",
    "# Compute level thickness\n",
    "lev_thick     = npy.roll(z_zw,-1)-z_zw\n",
    "lev_thick[-1] = lev_thick[-2]*.5\n",
    "lev_thickt    = npy.swapaxes(mv.reshape(npy.tile(lev_thick,lonN*latN),(lonN*latN,depthN)),0,1)\n",
    "print 'End of tests'"
   ]
  },
  {
   "cell_type": "code",
   "execution_count": 27,
   "metadata": {},
   "outputs": [
    {
     "data": {
      "text/plain": [
       "numpy.ndarray"
      ]
     },
     "execution_count": 27,
     "metadata": {},
     "output_type": "execute_result"
    }
   ],
   "source": [
    "ll=npy.array(lev_thickt)\n",
    "type(ll)"
   ]
  },
  {
   "cell_type": "code",
   "execution_count": 23,
   "metadata": {},
   "outputs": [
    {
     "name": "stdout",
     "output_type": "stream",
     "text": [
      "eosNeutral(20.,35.) -  1024.59416751\n",
      "eosNeutral.split:  ['<code', 'object', 'eosNeutral', 'at', '0x7f73983eacb0,', 'file', '\"binDensity.py\",', 'line', '140>']\n",
      "eosNeutralPath:  \"binDensity.py\",\n",
      "eosNeutralPath:  binDensity.py\n",
      "outFile_f.binDensity_version=  commit: f4037d6dfbebddebce178ffccf8185659bbb0f6c note: Date: Mon May 29 16:17:22 2017 +0200 note: Merge pull request #57 from eguil/AddWOD13MaskDirAndFiles\n"
     ]
    }
   ],
   "source": [
    "# test.py\n",
    "from binDensity import densityBin\n",
    "from binDensity import eosNeutral\n",
    "from string import replace\n",
    "from durolib import fixVarUnits,getGitInfo,globalAttWrite\n",
    "import cdms2 as cdm\n",
    "\n",
    "\n",
    "outFile = '/data/nillod/Density_bining/out/cmip5.IPSL-VLR0.historical.rip.mon.ocean.Omon.density.test.nc'\n",
    "outFile = replace(outFile,'.mo.','.an.')\n",
    "outFile_f = cdm.open(outFile,'w')\n",
    "\n",
    "print \"eosNeutral(20.,35.) - \",eosNeutral(20.,35.)\n",
    "\n",
    "eosNeutralPath = str(eosNeutral.__code__).split(' ')[6]\n",
    "print \"eosNeutral.split: \", str(eosNeutral.__code__).split(' ')\n",
    "print \"eosNeutralPath: \",eosNeutralPath\n",
    "\n",
    "eosNeutralPath = replace(replace(eosNeutralPath,'\"',''),',','') ; # Clean scraped path\n",
    "print 'eosNeutralPath: ',eosNeutralPath\n",
    "\n",
    "if(eosNeutralPath.find('/') < 0): # no path because in current\n",
    "    eosNeutralPath = os.getcwd()+'/'\n",
    "binVersion = getGitInfo(eosNeutralPath)[0:3]\n",
    "if(binVersion == None):\n",
    "    print \"NONE !!!!!!!!!\"\n",
    "\n",
    "outFile_f.binDensity_version = ' '.join(getGitInfo(eosNeutralPath)[0:3])\n",
    "print 'outFile_f.binDensity_version= ',str(outFile_f.binDensity_version)\n",
    "\n",
    "outFile_f.close()"
   ]
  },
  {
   "cell_type": "code",
   "execution_count": 9,
   "metadata": {},
   "outputs": [
    {
     "name": "stdout",
     "output_type": "stream",
     "text": [
      "commit: 2f9c4bd8c994e923bfd638eba46da5d8b3165dff note: Regrid test latest_tagPoint: None\n"
     ]
    }
   ],
   "source": [
    "#from binDensity import eosNeutral\n",
    "#eosNeutral(20.,35.)\n",
    "#str(eosNeutral.__code__).split(' ')[6]\n",
    "\n",
    "outFile = '/data/nillod/Density_bining/out/cmip5.IPSL-VLR0.historical.rip.mon.ocean.Omon.density.test.nc'\n",
    "outFile = replace(outFile,'.mo.','.an.')\n",
    "outFile_f = cdm.open(outFile,'w')\n",
    "\n",
    "eosNeutralPath='/home/nillod/Dev/Density_bin/Density_bining/binDensity.py'\n",
    "outFile_f.binDensity_version = ' '.join(getGitInfo(eosNeutralPath)[0:3])\n",
    "print outFile_f.binDensity_version\n",
    "outFile_f.close()"
   ]
  },
  {
   "cell_type": "code",
   "execution_count": 10,
   "metadata": {},
   "outputs": [
    {
     "data": {
      "text/plain": [
       "'/home/nillod/Dev/Density_bin/Density_bining'"
      ]
     },
     "execution_count": 10,
     "metadata": {},
     "output_type": "execute_result"
    }
   ],
   "source": [
    "getGitInfo(eosNeutralPath)[0:3]\n",
    "os.getcwd()"
   ]
  },
  {
   "cell_type": "code",
   "execution_count": null,
   "metadata": {},
   "outputs": [],
   "source": [
    "ft2 = cdm.open('/prodigfs/project/CMIP5/main/IPSL/IPSL-CM5B-LR/piControl/mon/ocean/Omon/r1i1p1/latest/thetao/thetao_Omon_IPSL-CM5B-LR_piControl_r1i1p1_183001-187912.nc')\n",
    "thetao_h    = ft2['thetao'] ; # Create variable handle\n",
    "ingrid  = thetao_h.getGrid()\n",
    "\n",
    "gridFile    = '140807_WOD13_masks.nc'\n",
    "gridFile_f  = cdm.open(gridFile)\n",
    "maskg       = gridFile_f('basinmask3')\n",
    "outgrid     = maskg.getGrid()\n",
    "\n",
    "valmask = 1.00e+20\n",
    "\n",
    "depthBini   = npy.ma.ones([1, 60+1, 180, 360], dtype='float32')*valmask\n",
    "depthBini.dtype"
   ]
  },
  {
   "cell_type": "code",
   "execution_count": null,
   "metadata": {},
   "outputs": [],
   "source": [
    "ESMP.ESMP_Initialize()\n",
    "print ingrid,outgrid"
   ]
  },
  {
   "cell_type": "code",
   "execution_count": null,
   "metadata": {},
   "outputs": [],
   "source": [
    "regridObj = CdmsRegrid(outgrid,outgrid,depthBini.dtype) #,missing=valmask,regridMethod='distwgt',regridTool='esmf', coordSys='deg', diag = {},periodicity=1)"
   ]
  }
 ],
 "metadata": {
  "anaconda-cloud": {},
  "kernelspec": {
   "display_name": "Python [conda root]",
   "language": "python",
   "name": "conda-root-py"
  },
  "language_info": {
   "codemirror_mode": {
    "name": "ipython",
    "version": 2
   },
   "file_extension": ".py",
   "mimetype": "text/x-python",
   "name": "python",
   "nbconvert_exporter": "python",
   "pygments_lexer": "ipython2",
   "version": "2.7.13"
  }
 },
 "nbformat": 4,
 "nbformat_minor": 1
}
